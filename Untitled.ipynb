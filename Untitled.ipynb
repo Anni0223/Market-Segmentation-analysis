{
 "cells": [
  {
   "cell_type": "markdown",
   "id": "398139d3",
   "metadata": {},
   "source": [
    "## Case Study : Fast Food"
   ]
  },
  {
   "cell_type": "raw",
   "id": "ac8c78bc",
   "metadata": {},
   "source": [
    "Goal - We have to determine if customer segments exists that have a distinctly different image of the brand(McDonald's). Understanding these different segments by how they perceive the brand will informs us which segment to focus on and what message to convey to them."
   ]
  },
  {
   "cell_type": "code",
   "execution_count": 1,
   "id": "eb653083",
   "metadata": {},
   "outputs": [],
   "source": [
    "import pandas as pd\n",
    "import numpy as np\n",
    "import matplotlib.pyplot as plt\n",
    "import seaborn as sns"
   ]
  },
  {
   "cell_type": "raw",
   "id": "5aa545d7",
   "metadata": {},
   "source": [
    "Lets import the dataset"
   ]
  },
  {
   "cell_type": "code",
   "execution_count": 119,
   "id": "a15808de",
   "metadata": {},
   "outputs": [],
   "source": [
    "df = pd.read_excel('dataset .xls')"
   ]
  },
  {
   "cell_type": "markdown",
   "id": "2a1a247c",
   "metadata": {},
   "source": [
    "## Exploratory Data Analysis"
   ]
  },
  {
   "cell_type": "code",
   "execution_count": 3,
   "id": "4832f664",
   "metadata": {},
   "outputs": [
    {
     "data": {
      "text/html": [
       "<div>\n",
       "<style scoped>\n",
       "    .dataframe tbody tr th:only-of-type {\n",
       "        vertical-align: middle;\n",
       "    }\n",
       "\n",
       "    .dataframe tbody tr th {\n",
       "        vertical-align: top;\n",
       "    }\n",
       "\n",
       "    .dataframe thead th {\n",
       "        text-align: right;\n",
       "    }\n",
       "</style>\n",
       "<table border=\"1\" class=\"dataframe\">\n",
       "  <thead>\n",
       "    <tr style=\"text-align: right;\">\n",
       "      <th></th>\n",
       "      <th>yummy</th>\n",
       "      <th>convenient</th>\n",
       "      <th>spicy</th>\n",
       "      <th>fattening</th>\n",
       "      <th>greasy</th>\n",
       "      <th>fast</th>\n",
       "      <th>cheap</th>\n",
       "      <th>tasty</th>\n",
       "      <th>expensive</th>\n",
       "      <th>healthy</th>\n",
       "      <th>disgusting</th>\n",
       "      <th>Like</th>\n",
       "      <th>Age</th>\n",
       "      <th>VisitFrequency</th>\n",
       "      <th>Gender</th>\n",
       "    </tr>\n",
       "  </thead>\n",
       "  <tbody>\n",
       "    <tr>\n",
       "      <th>0</th>\n",
       "      <td>No</td>\n",
       "      <td>Yes</td>\n",
       "      <td>No</td>\n",
       "      <td>Yes</td>\n",
       "      <td>No</td>\n",
       "      <td>Yes</td>\n",
       "      <td>Yes</td>\n",
       "      <td>No</td>\n",
       "      <td>Yes</td>\n",
       "      <td>No</td>\n",
       "      <td>No</td>\n",
       "      <td>-3</td>\n",
       "      <td>61</td>\n",
       "      <td>Every three months</td>\n",
       "      <td>Female</td>\n",
       "    </tr>\n",
       "    <tr>\n",
       "      <th>1</th>\n",
       "      <td>Yes</td>\n",
       "      <td>Yes</td>\n",
       "      <td>No</td>\n",
       "      <td>Yes</td>\n",
       "      <td>Yes</td>\n",
       "      <td>Yes</td>\n",
       "      <td>Yes</td>\n",
       "      <td>Yes</td>\n",
       "      <td>Yes</td>\n",
       "      <td>No</td>\n",
       "      <td>No</td>\n",
       "      <td>2</td>\n",
       "      <td>51</td>\n",
       "      <td>Every three months</td>\n",
       "      <td>Female</td>\n",
       "    </tr>\n",
       "  </tbody>\n",
       "</table>\n",
       "</div>"
      ],
      "text/plain": [
       "  yummy convenient spicy fattening greasy fast cheap tasty expensive healthy  \\\n",
       "0    No        Yes    No       Yes     No  Yes   Yes    No       Yes      No   \n",
       "1   Yes        Yes    No       Yes    Yes  Yes   Yes   Yes       Yes      No   \n",
       "\n",
       "  disgusting Like  Age      VisitFrequency  Gender  \n",
       "0         No   -3   61  Every three months  Female  \n",
       "1         No    2   51  Every three months  Female  "
      ]
     },
     "execution_count": 3,
     "metadata": {},
     "output_type": "execute_result"
    }
   ],
   "source": [
    "df.head(2)"
   ]
  },
  {
   "cell_type": "code",
   "execution_count": 4,
   "id": "781ce4f0",
   "metadata": {},
   "outputs": [
    {
     "name": "stdout",
     "output_type": "stream",
     "text": [
      "<class 'pandas.core.frame.DataFrame'>\n",
      "RangeIndex: 1453 entries, 0 to 1452\n",
      "Data columns (total 15 columns):\n",
      " #   Column          Non-Null Count  Dtype \n",
      "---  ------          --------------  ----- \n",
      " 0   yummy           1453 non-null   object\n",
      " 1   convenient      1453 non-null   object\n",
      " 2   spicy           1453 non-null   object\n",
      " 3   fattening       1453 non-null   object\n",
      " 4   greasy          1453 non-null   object\n",
      " 5   fast            1453 non-null   object\n",
      " 6   cheap           1453 non-null   object\n",
      " 7   tasty           1453 non-null   object\n",
      " 8   expensive       1453 non-null   object\n",
      " 9   healthy         1453 non-null   object\n",
      " 10  disgusting      1453 non-null   object\n",
      " 11  Like            1453 non-null   object\n",
      " 12  Age             1453 non-null   int64 \n",
      " 13  VisitFrequency  1453 non-null   object\n",
      " 14  Gender          1453 non-null   object\n",
      "dtypes: int64(1), object(14)\n",
      "memory usage: 170.4+ KB\n"
     ]
    }
   ],
   "source": [
    "df.info()"
   ]
  },
  {
   "cell_type": "raw",
   "id": "97e61b3b",
   "metadata": {},
   "source": [
    "Here, we have survey data of 1453 customers , about how they feel about McDonald's along with their respective gender,age , rating and frequency of visit.\n",
    "Like the first respondent is a 61 year old female who visits every three months for the convenience but does not find McDonald's to be cheap or tasty."
   ]
  },
  {
   "cell_type": "markdown",
   "id": "1530ada1",
   "metadata": {},
   "source": [
    "### Lets get dummy variables for the first eleven columns"
   ]
  },
  {
   "cell_type": "code",
   "execution_count": 120,
   "id": "a1f6254e",
   "metadata": {},
   "outputs": [],
   "source": [
    "df=pd.get_dummies(df,columns=['yummy','convenient','spicy','fattening','greasy','fast','cheap','tasty','expensive','healthy','disgusting'],drop_first=True)"
   ]
  },
  {
   "cell_type": "code",
   "execution_count": 121,
   "id": "f9f6f567",
   "metadata": {},
   "outputs": [],
   "source": [
    "df.columns=['Like', 'Age', 'VisitFrequency', 'Gender','yummy','convenient','spicy','fattening','greasy','fast','cheap','tasty','expensive','healthy','disgusting']"
   ]
  },
  {
   "cell_type": "code",
   "execution_count": 122,
   "id": "0fb2aee7",
   "metadata": {},
   "outputs": [
    {
     "data": {
      "text/html": [
       "<div>\n",
       "<style scoped>\n",
       "    .dataframe tbody tr th:only-of-type {\n",
       "        vertical-align: middle;\n",
       "    }\n",
       "\n",
       "    .dataframe tbody tr th {\n",
       "        vertical-align: top;\n",
       "    }\n",
       "\n",
       "    .dataframe thead th {\n",
       "        text-align: right;\n",
       "    }\n",
       "</style>\n",
       "<table border=\"1\" class=\"dataframe\">\n",
       "  <thead>\n",
       "    <tr style=\"text-align: right;\">\n",
       "      <th></th>\n",
       "      <th>Like</th>\n",
       "      <th>Age</th>\n",
       "      <th>VisitFrequency</th>\n",
       "      <th>Gender</th>\n",
       "      <th>yummy</th>\n",
       "      <th>convenient</th>\n",
       "      <th>spicy</th>\n",
       "      <th>fattening</th>\n",
       "      <th>greasy</th>\n",
       "      <th>fast</th>\n",
       "      <th>cheap</th>\n",
       "      <th>tasty</th>\n",
       "      <th>expensive</th>\n",
       "      <th>healthy</th>\n",
       "      <th>disgusting</th>\n",
       "    </tr>\n",
       "  </thead>\n",
       "  <tbody>\n",
       "    <tr>\n",
       "      <th>0</th>\n",
       "      <td>-3</td>\n",
       "      <td>61</td>\n",
       "      <td>Every three months</td>\n",
       "      <td>Female</td>\n",
       "      <td>0</td>\n",
       "      <td>1</td>\n",
       "      <td>0</td>\n",
       "      <td>1</td>\n",
       "      <td>0</td>\n",
       "      <td>1</td>\n",
       "      <td>1</td>\n",
       "      <td>0</td>\n",
       "      <td>1</td>\n",
       "      <td>0</td>\n",
       "      <td>0</td>\n",
       "    </tr>\n",
       "    <tr>\n",
       "      <th>1</th>\n",
       "      <td>2</td>\n",
       "      <td>51</td>\n",
       "      <td>Every three months</td>\n",
       "      <td>Female</td>\n",
       "      <td>1</td>\n",
       "      <td>1</td>\n",
       "      <td>0</td>\n",
       "      <td>1</td>\n",
       "      <td>1</td>\n",
       "      <td>1</td>\n",
       "      <td>1</td>\n",
       "      <td>1</td>\n",
       "      <td>1</td>\n",
       "      <td>0</td>\n",
       "      <td>0</td>\n",
       "    </tr>\n",
       "  </tbody>\n",
       "</table>\n",
       "</div>"
      ],
      "text/plain": [
       "  Like  Age      VisitFrequency  Gender  yummy  convenient  spicy  fattening  \\\n",
       "0   -3   61  Every three months  Female      0           1      0          1   \n",
       "1    2   51  Every three months  Female      1           1      0          1   \n",
       "\n",
       "   greasy  fast  cheap  tasty  expensive  healthy  disgusting  \n",
       "0       0     1      1      0          1        0           0  \n",
       "1       1     1      1      1          1        0           0  "
      ]
     },
     "execution_count": 122,
     "metadata": {},
     "output_type": "execute_result"
    }
   ],
   "source": [
    "df.head(2)"
   ]
  },
  {
   "cell_type": "code",
   "execution_count": null,
   "id": "8d91d189",
   "metadata": {},
   "outputs": [],
   "source": []
  },
  {
   "cell_type": "markdown",
   "id": "fabb6aa1",
   "metadata": {},
   "source": [
    "#### Lets remove the 'i love it' and 'i hate it' part from the ratings."
   ]
  },
  {
   "cell_type": "code",
   "execution_count": 123,
   "id": "96bd9c78",
   "metadata": {},
   "outputs": [
    {
     "data": {
      "text/plain": [
       "array([-3, 2, 1, 4, 'I love it!+5', 'I hate it!-5', -2, 3, 0, -4, -1],\n",
       "      dtype=object)"
      ]
     },
     "execution_count": 123,
     "metadata": {},
     "output_type": "execute_result"
    }
   ],
   "source": [
    "df['Like'].unique()"
   ]
  },
  {
   "cell_type": "code",
   "execution_count": 124,
   "id": "e9590288",
   "metadata": {},
   "outputs": [],
   "source": [
    "def slicer(x):\n",
    "    if(len(x)>2):\n",
    "        return x.split('!')[1]\n",
    "    else:\n",
    "        return x"
   ]
  },
  {
   "cell_type": "code",
   "execution_count": 125,
   "id": "d0f2b949",
   "metadata": {},
   "outputs": [],
   "source": [
    "df['Like']=df['Like'].apply(lambda x:str(x))\n",
    "df['Like']=df['Like'].apply(lambda x:slicer(x))\n",
    "df['Like']=df['Like'].apply(lambda x:int(x))"
   ]
  },
  {
   "cell_type": "code",
   "execution_count": 126,
   "id": "55beae33",
   "metadata": {},
   "outputs": [
    {
     "data": {
      "text/plain": [
       "array([-3,  2,  1,  4,  5, -5, -2,  3,  0, -4, -1], dtype=int64)"
      ]
     },
     "execution_count": 126,
     "metadata": {},
     "output_type": "execute_result"
    }
   ],
   "source": [
    "df['Like'].unique()"
   ]
  },
  {
   "cell_type": "raw",
   "id": "0e36e986",
   "metadata": {},
   "source": []
  },
  {
   "cell_type": "code",
   "execution_count": 12,
   "id": "f7681e49",
   "metadata": {},
   "outputs": [
    {
     "data": {
      "text/html": [
       "<div>\n",
       "<style scoped>\n",
       "    .dataframe tbody tr th:only-of-type {\n",
       "        vertical-align: middle;\n",
       "    }\n",
       "\n",
       "    .dataframe tbody tr th {\n",
       "        vertical-align: top;\n",
       "    }\n",
       "\n",
       "    .dataframe thead th {\n",
       "        text-align: right;\n",
       "    }\n",
       "</style>\n",
       "<table border=\"1\" class=\"dataframe\">\n",
       "  <thead>\n",
       "    <tr style=\"text-align: right;\">\n",
       "      <th></th>\n",
       "      <th>Like</th>\n",
       "      <th>Age</th>\n",
       "      <th>yummy</th>\n",
       "      <th>convenient</th>\n",
       "      <th>spicy</th>\n",
       "      <th>fattening</th>\n",
       "      <th>greasy</th>\n",
       "      <th>fast</th>\n",
       "      <th>cheap</th>\n",
       "      <th>tasty</th>\n",
       "      <th>expensive</th>\n",
       "      <th>healthy</th>\n",
       "      <th>disgusting</th>\n",
       "    </tr>\n",
       "  </thead>\n",
       "  <tbody>\n",
       "    <tr>\n",
       "      <th>count</th>\n",
       "      <td>1453.000000</td>\n",
       "      <td>1453.000000</td>\n",
       "      <td>1453.000000</td>\n",
       "      <td>1453.000000</td>\n",
       "      <td>1453.000000</td>\n",
       "      <td>1453.000000</td>\n",
       "      <td>1453.000000</td>\n",
       "      <td>1453.000000</td>\n",
       "      <td>1453.000000</td>\n",
       "      <td>1453.000000</td>\n",
       "      <td>1453.000000</td>\n",
       "      <td>1453.000000</td>\n",
       "      <td>1453.000000</td>\n",
       "    </tr>\n",
       "    <tr>\n",
       "      <th>mean</th>\n",
       "      <td>0.777013</td>\n",
       "      <td>44.604955</td>\n",
       "      <td>0.552650</td>\n",
       "      <td>0.907777</td>\n",
       "      <td>0.093599</td>\n",
       "      <td>0.867171</td>\n",
       "      <td>0.526497</td>\n",
       "      <td>0.900206</td>\n",
       "      <td>0.598761</td>\n",
       "      <td>0.644184</td>\n",
       "      <td>0.357880</td>\n",
       "      <td>0.198899</td>\n",
       "      <td>0.242946</td>\n",
       "    </tr>\n",
       "    <tr>\n",
       "      <th>std</th>\n",
       "      <td>3.116842</td>\n",
       "      <td>14.221178</td>\n",
       "      <td>0.497391</td>\n",
       "      <td>0.289440</td>\n",
       "      <td>0.291371</td>\n",
       "      <td>0.339506</td>\n",
       "      <td>0.499469</td>\n",
       "      <td>0.299828</td>\n",
       "      <td>0.490318</td>\n",
       "      <td>0.478925</td>\n",
       "      <td>0.479542</td>\n",
       "      <td>0.399309</td>\n",
       "      <td>0.429010</td>\n",
       "    </tr>\n",
       "    <tr>\n",
       "      <th>min</th>\n",
       "      <td>-5.000000</td>\n",
       "      <td>18.000000</td>\n",
       "      <td>0.000000</td>\n",
       "      <td>0.000000</td>\n",
       "      <td>0.000000</td>\n",
       "      <td>0.000000</td>\n",
       "      <td>0.000000</td>\n",
       "      <td>0.000000</td>\n",
       "      <td>0.000000</td>\n",
       "      <td>0.000000</td>\n",
       "      <td>0.000000</td>\n",
       "      <td>0.000000</td>\n",
       "      <td>0.000000</td>\n",
       "    </tr>\n",
       "    <tr>\n",
       "      <th>25%</th>\n",
       "      <td>-1.000000</td>\n",
       "      <td>33.000000</td>\n",
       "      <td>0.000000</td>\n",
       "      <td>1.000000</td>\n",
       "      <td>0.000000</td>\n",
       "      <td>1.000000</td>\n",
       "      <td>0.000000</td>\n",
       "      <td>1.000000</td>\n",
       "      <td>0.000000</td>\n",
       "      <td>0.000000</td>\n",
       "      <td>0.000000</td>\n",
       "      <td>0.000000</td>\n",
       "      <td>0.000000</td>\n",
       "    </tr>\n",
       "    <tr>\n",
       "      <th>50%</th>\n",
       "      <td>1.000000</td>\n",
       "      <td>45.000000</td>\n",
       "      <td>1.000000</td>\n",
       "      <td>1.000000</td>\n",
       "      <td>0.000000</td>\n",
       "      <td>1.000000</td>\n",
       "      <td>1.000000</td>\n",
       "      <td>1.000000</td>\n",
       "      <td>1.000000</td>\n",
       "      <td>1.000000</td>\n",
       "      <td>0.000000</td>\n",
       "      <td>0.000000</td>\n",
       "      <td>0.000000</td>\n",
       "    </tr>\n",
       "    <tr>\n",
       "      <th>75%</th>\n",
       "      <td>3.000000</td>\n",
       "      <td>57.000000</td>\n",
       "      <td>1.000000</td>\n",
       "      <td>1.000000</td>\n",
       "      <td>0.000000</td>\n",
       "      <td>1.000000</td>\n",
       "      <td>1.000000</td>\n",
       "      <td>1.000000</td>\n",
       "      <td>1.000000</td>\n",
       "      <td>1.000000</td>\n",
       "      <td>1.000000</td>\n",
       "      <td>0.000000</td>\n",
       "      <td>0.000000</td>\n",
       "    </tr>\n",
       "    <tr>\n",
       "      <th>max</th>\n",
       "      <td>5.000000</td>\n",
       "      <td>71.000000</td>\n",
       "      <td>1.000000</td>\n",
       "      <td>1.000000</td>\n",
       "      <td>1.000000</td>\n",
       "      <td>1.000000</td>\n",
       "      <td>1.000000</td>\n",
       "      <td>1.000000</td>\n",
       "      <td>1.000000</td>\n",
       "      <td>1.000000</td>\n",
       "      <td>1.000000</td>\n",
       "      <td>1.000000</td>\n",
       "      <td>1.000000</td>\n",
       "    </tr>\n",
       "  </tbody>\n",
       "</table>\n",
       "</div>"
      ],
      "text/plain": [
       "              Like          Age        yummy   convenient        spicy  \\\n",
       "count  1453.000000  1453.000000  1453.000000  1453.000000  1453.000000   \n",
       "mean      0.777013    44.604955     0.552650     0.907777     0.093599   \n",
       "std       3.116842    14.221178     0.497391     0.289440     0.291371   \n",
       "min      -5.000000    18.000000     0.000000     0.000000     0.000000   \n",
       "25%      -1.000000    33.000000     0.000000     1.000000     0.000000   \n",
       "50%       1.000000    45.000000     1.000000     1.000000     0.000000   \n",
       "75%       3.000000    57.000000     1.000000     1.000000     0.000000   \n",
       "max       5.000000    71.000000     1.000000     1.000000     1.000000   \n",
       "\n",
       "         fattening       greasy         fast        cheap        tasty  \\\n",
       "count  1453.000000  1453.000000  1453.000000  1453.000000  1453.000000   \n",
       "mean      0.867171     0.526497     0.900206     0.598761     0.644184   \n",
       "std       0.339506     0.499469     0.299828     0.490318     0.478925   \n",
       "min       0.000000     0.000000     0.000000     0.000000     0.000000   \n",
       "25%       1.000000     0.000000     1.000000     0.000000     0.000000   \n",
       "50%       1.000000     1.000000     1.000000     1.000000     1.000000   \n",
       "75%       1.000000     1.000000     1.000000     1.000000     1.000000   \n",
       "max       1.000000     1.000000     1.000000     1.000000     1.000000   \n",
       "\n",
       "         expensive      healthy   disgusting  \n",
       "count  1453.000000  1453.000000  1453.000000  \n",
       "mean      0.357880     0.198899     0.242946  \n",
       "std       0.479542     0.399309     0.429010  \n",
       "min       0.000000     0.000000     0.000000  \n",
       "25%       0.000000     0.000000     0.000000  \n",
       "50%       0.000000     0.000000     0.000000  \n",
       "75%       1.000000     0.000000     0.000000  \n",
       "max       1.000000     1.000000     1.000000  "
      ]
     },
     "execution_count": 12,
     "metadata": {},
     "output_type": "execute_result"
    }
   ],
   "source": [
    "df.describe()"
   ]
  },
  {
   "cell_type": "markdown",
   "id": "9cd46d0b",
   "metadata": {},
   "source": [
    "### Lets plot the mean of the 11 features , to get an idea of the general perception people have."
   ]
  },
  {
   "cell_type": "code",
   "execution_count": 13,
   "id": "97862ce9",
   "metadata": {},
   "outputs": [],
   "source": [
    "df_temp=pd.DataFrame(df.describe().loc['mean'].round(2)[2:13])"
   ]
  },
  {
   "cell_type": "code",
   "execution_count": 14,
   "id": "3b6b8222",
   "metadata": {},
   "outputs": [
    {
     "data": {
      "image/png": "[encoded data removed]",
      "text/plain": [
       "<Figure size 720x432 with 1 Axes>"
      ]
     },
     "metadata": {
      "needs_background": "light"
     },
     "output_type": "display_data"
    }
   ],
   "source": [
    "plt.figure(figsize=(10,6))\n",
    "ax=sns.barplot(x=df.columns[4:],y=df_temp['mean'])\n",
    "for i in ax.containers:\n",
    "    ax.bar_label(i,)"
   ]
  },
  {
   "cell_type": "markdown",
   "id": "77a271ff",
   "metadata": {},
   "source": [
    "#### The data indicates that about half of the respondents (55%) perceive McDonald’s as YUMMY,91% believe that eating at McDonald’s is CONVENIENT, only 9% think thatMcDonald’s food is SPICY and 24 % find it disgusting"
   ]
  },
  {
   "cell_type": "markdown",
   "id": "20230c09",
   "metadata": {},
   "source": [
    "### Gender distribution of the customers"
   ]
  },
  {
   "cell_type": "code",
   "execution_count": 15,
   "id": "550cd9b7",
   "metadata": {},
   "outputs": [
    {
     "data": {
      "text/plain": [
       "<AxesSubplot:xlabel='Gender', ylabel='count'>"
      ]
     },
     "execution_count": 15,
     "metadata": {},
     "output_type": "execute_result"
    },
    {
     "data": {
      "image/png": "[encoded data removed]",
      "text/plain": [
       "<Figure size 432x288 with 1 Axes>"
      ]
     },
     "metadata": {
      "needs_background": "light"
     },
     "output_type": "display_data"
    }
   ],
   "source": [
    "sns.countplot(x='Gender',data=df)"
   ]
  },
  {
   "cell_type": "markdown",
   "id": "86181826",
   "metadata": {},
   "source": [
    "### Age Distribution of customers"
   ]
  },
  {
   "cell_type": "code",
   "execution_count": 16,
   "id": "94461195",
   "metadata": {},
   "outputs": [
    {
     "name": "stderr",
     "output_type": "stream",
     "text": [
      "C:\\Users\\91938\\anaconda3\\lib\\site-packages\\seaborn\\distributions.py:2619: FutureWarning: `distplot` is a deprecated function and will be removed in a future version. Please adapt your code to use either `displot` (a figure-level function with similar flexibility) or `histplot` (an axes-level function for histograms).\n",
      "  warnings.warn(msg, FutureWarning)\n"
     ]
    },
    {
     "data": {
      "text/plain": [
       "<AxesSubplot:xlabel='Age', ylabel='Density'>"
      ]
     },
     "execution_count": 16,
     "metadata": {},
     "output_type": "execute_result"
    },
    {
     "data": {
      "image/png": "[encoded data removed]",
      "text/plain": [
       "<Figure size 432x288 with 1 Axes>"
      ]
     },
     "metadata": {
      "needs_background": "light"
     },
     "output_type": "display_data"
    }
   ],
   "source": [
    "sns.distplot(df['Age'],bins=20)"
   ]
  },
  {
   "cell_type": "markdown",
   "id": "1e9b0c4c",
   "metadata": {},
   "source": [
    "## Distribution of ratings"
   ]
  },
  {
   "cell_type": "code",
   "execution_count": 17,
   "id": "7cc8b3bb",
   "metadata": {},
   "outputs": [
    {
     "data": {
      "text/plain": [
       "<AxesSubplot:xlabel='Like', ylabel='count'>"
      ]
     },
     "execution_count": 17,
     "metadata": {},
     "output_type": "execute_result"
    },
    {
     "data": {
      "image/png": "[encoded data removed]",
      "text/plain": [
       "<Figure size 432x288 with 1 Axes>"
      ]
     },
     "metadata": {
      "needs_background": "light"
     },
     "output_type": "display_data"
    }
   ],
   "source": [
    "sns.countplot(x='Like',data=df)"
   ]
  },
  {
   "cell_type": "markdown",
   "id": "aa30d1db",
   "metadata": {},
   "source": [
    "#### Rating distribution amoung different age groups and gender."
   ]
  },
  {
   "cell_type": "code",
   "execution_count": 18,
   "id": "9d5876dc",
   "metadata": {},
   "outputs": [
    {
     "data": {
      "text/plain": [
       "<AxesSubplot:xlabel='Like', ylabel='Age'>"
      ]
     },
     "execution_count": 18,
     "metadata": {},
     "output_type": "execute_result"
    },
    {
     "data": {
      "image/png": "[encoded data removed]",
      "text/plain": [
       "<Figure size 720x432 with 1 Axes>"
      ]
     },
     "metadata": {
      "needs_background": "light"
     },
     "output_type": "display_data"
    }
   ],
   "source": [
    "plt.figure(figsize=(10,6))\n",
    "sns.boxplot(x=\"Like\", y=\"Age\",data=df,)"
   ]
  },
  {
   "cell_type": "markdown",
   "id": "ca8a7129",
   "metadata": {},
   "source": [
    "#### Young people tend to like Mcdonald's more,the company can focus on young population, we need to add more options to win old people."
   ]
  },
  {
   "cell_type": "code",
   "execution_count": null,
   "id": "0b5c69d3",
   "metadata": {},
   "outputs": [],
   "source": []
  },
  {
   "cell_type": "code",
   "execution_count": 19,
   "id": "7c3fd5c9",
   "metadata": {},
   "outputs": [],
   "source": [
    "crosstable=pd.crosstab(df['Like'],df['Gender'])"
   ]
  },
  {
   "cell_type": "code",
   "execution_count": 20,
   "id": "40e642f7",
   "metadata": {},
   "outputs": [
    {
     "data": {
      "text/html": [
       "<div>\n",
       "<style scoped>\n",
       "    .dataframe tbody tr th:only-of-type {\n",
       "        vertical-align: middle;\n",
       "    }\n",
       "\n",
       "    .dataframe tbody tr th {\n",
       "        vertical-align: top;\n",
       "    }\n",
       "\n",
       "    .dataframe thead th {\n",
       "        text-align: right;\n",
       "    }\n",
       "</style>\n",
       "<table border=\"1\" class=\"dataframe\">\n",
       "  <thead>\n",
       "    <tr style=\"text-align: right;\">\n",
       "      <th>Like</th>\n",
       "      <th>-5</th>\n",
       "      <th>-4</th>\n",
       "      <th>-3</th>\n",
       "      <th>-2</th>\n",
       "      <th>-1</th>\n",
       "      <th>0</th>\n",
       "      <th>1</th>\n",
       "      <th>2</th>\n",
       "      <th>3</th>\n",
       "      <th>4</th>\n",
       "      <th>5</th>\n",
       "    </tr>\n",
       "    <tr>\n",
       "      <th>Gender</th>\n",
       "      <th></th>\n",
       "      <th></th>\n",
       "      <th></th>\n",
       "      <th></th>\n",
       "      <th></th>\n",
       "      <th></th>\n",
       "      <th></th>\n",
       "      <th></th>\n",
       "      <th></th>\n",
       "      <th></th>\n",
       "      <th></th>\n",
       "    </tr>\n",
       "  </thead>\n",
       "  <tbody>\n",
       "    <tr>\n",
       "      <th>Female</th>\n",
       "      <td>74</td>\n",
       "      <td>39</td>\n",
       "      <td>39</td>\n",
       "      <td>32</td>\n",
       "      <td>32</td>\n",
       "      <td>85</td>\n",
       "      <td>76</td>\n",
       "      <td>105</td>\n",
       "      <td>136</td>\n",
       "      <td>82</td>\n",
       "      <td>88</td>\n",
       "    </tr>\n",
       "    <tr>\n",
       "      <th>Male</th>\n",
       "      <td>78</td>\n",
       "      <td>32</td>\n",
       "      <td>34</td>\n",
       "      <td>27</td>\n",
       "      <td>26</td>\n",
       "      <td>84</td>\n",
       "      <td>76</td>\n",
       "      <td>82</td>\n",
       "      <td>93</td>\n",
       "      <td>78</td>\n",
       "      <td>55</td>\n",
       "    </tr>\n",
       "  </tbody>\n",
       "</table>\n",
       "</div>"
      ],
      "text/plain": [
       "Like    -5  -4  -3  -2  -1   0   1    2    3   4   5\n",
       "Gender                                              \n",
       "Female  74  39  39  32  32  85  76  105  136  82  88\n",
       "Male    78  32  34  27  26  84  76   82   93  78  55"
      ]
     },
     "execution_count": 20,
     "metadata": {},
     "output_type": "execute_result"
    }
   ],
   "source": [
    "crosstable.transpose()"
   ]
  },
  {
   "cell_type": "code",
   "execution_count": 21,
   "id": "b5fb5b3b",
   "metadata": {},
   "outputs": [
    {
     "data": {
      "image/png": "[encoded data removed]",
      "text/plain": [
       "<Figure size 432x288 with 1 Axes>"
      ]
     },
     "metadata": {
      "needs_background": "light"
     },
     "output_type": "display_data"
    }
   ],
   "source": [
    "barplot = crosstable.plot.bar(rot=0)"
   ]
  },
  {
   "cell_type": "markdown",
   "id": "ac4882d7",
   "metadata": {},
   "source": [
    "### It might look like females like McDonals's more, but there are more female customers than male which is also being reflected in the rating distribution."
   ]
  },
  {
   "cell_type": "raw",
   "id": "d79da6c8",
   "metadata": {},
   "source": []
  },
  {
   "cell_type": "code",
   "execution_count": 22,
   "id": "3079268a",
   "metadata": {},
   "outputs": [],
   "source": [
    "# Lets store the 11 features in a separate dataframe"
   ]
  },
  {
   "cell_type": "code",
   "execution_count": 23,
   "id": "a2efd3c8",
   "metadata": {},
   "outputs": [],
   "source": [
    "df_criteria=df[['yummy', 'convenient',\n",
    "       'spicy', 'fattening', 'greasy', 'fast', 'cheap', 'tasty', 'expensive',\n",
    "       'healthy', 'disgusting']]"
   ]
  },
  {
   "cell_type": "code",
   "execution_count": 24,
   "id": "16c5678e",
   "metadata": {},
   "outputs": [
    {
     "data": {
      "text/html": [
       "<div>\n",
       "<style scoped>\n",
       "    .dataframe tbody tr th:only-of-type {\n",
       "        vertical-align: middle;\n",
       "    }\n",
       "\n",
       "    .dataframe tbody tr th {\n",
       "        vertical-align: top;\n",
       "    }\n",
       "\n",
       "    .dataframe thead th {\n",
       "        text-align: right;\n",
       "    }\n",
       "</style>\n",
       "<table border=\"1\" class=\"dataframe\">\n",
       "  <thead>\n",
       "    <tr style=\"text-align: right;\">\n",
       "      <th></th>\n",
       "      <th>yummy</th>\n",
       "      <th>convenient</th>\n",
       "      <th>spicy</th>\n",
       "      <th>fattening</th>\n",
       "      <th>greasy</th>\n",
       "      <th>fast</th>\n",
       "      <th>cheap</th>\n",
       "      <th>tasty</th>\n",
       "      <th>expensive</th>\n",
       "      <th>healthy</th>\n",
       "      <th>disgusting</th>\n",
       "    </tr>\n",
       "  </thead>\n",
       "  <tbody>\n",
       "    <tr>\n",
       "      <th>0</th>\n",
       "      <td>0</td>\n",
       "      <td>1</td>\n",
       "      <td>0</td>\n",
       "      <td>1</td>\n",
       "      <td>0</td>\n",
       "      <td>1</td>\n",
       "      <td>1</td>\n",
       "      <td>0</td>\n",
       "      <td>1</td>\n",
       "      <td>0</td>\n",
       "      <td>0</td>\n",
       "    </tr>\n",
       "    <tr>\n",
       "      <th>1</th>\n",
       "      <td>1</td>\n",
       "      <td>1</td>\n",
       "      <td>0</td>\n",
       "      <td>1</td>\n",
       "      <td>1</td>\n",
       "      <td>1</td>\n",
       "      <td>1</td>\n",
       "      <td>1</td>\n",
       "      <td>1</td>\n",
       "      <td>0</td>\n",
       "      <td>0</td>\n",
       "    </tr>\n",
       "  </tbody>\n",
       "</table>\n",
       "</div>"
      ],
      "text/plain": [
       "   yummy  convenient  spicy  fattening  greasy  fast  cheap  tasty  expensive  \\\n",
       "0      0           1      0          1       0     1      1      0          1   \n",
       "1      1           1      0          1       1     1      1      1          1   \n",
       "\n",
       "   healthy  disgusting  \n",
       "0        0           0  \n",
       "1        0           0  "
      ]
     },
     "execution_count": 24,
     "metadata": {},
     "output_type": "execute_result"
    }
   ],
   "source": [
    "df_criteria.head(2)"
   ]
  },
  {
   "cell_type": "markdown",
   "id": "a3b4d848",
   "metadata": {},
   "source": [
    "## PCA"
   ]
  },
  {
   "cell_type": "code",
   "execution_count": 25,
   "id": "d8e3b600",
   "metadata": {},
   "outputs": [],
   "source": [
    "from sklearn.decomposition import PCA"
   ]
  },
  {
   "cell_type": "code",
   "execution_count": 26,
   "id": "ba2bc0d9",
   "metadata": {},
   "outputs": [],
   "source": [
    "pca = PCA()"
   ]
  },
  {
   "cell_type": "code",
   "execution_count": 27,
   "id": "f0b629ed",
   "metadata": {},
   "outputs": [],
   "source": [
    "x_pca=pca.fit_transform(df_criteria)"
   ]
  },
  {
   "cell_type": "code",
   "execution_count": 28,
   "id": "e1eb18b4",
   "metadata": {},
   "outputs": [
    {
     "data": {
      "text/plain": [
       "array([29.94472319, 19.27972137, 13.30453519,  8.30957781,  5.94805227,\n",
       "        5.02995614,  4.38490997,  3.95477912,  3.67608973,  3.23532907,\n",
       "        2.93232614])"
      ]
     },
     "execution_count": 28,
     "metadata": {},
     "output_type": "execute_result"
    }
   ],
   "source": [
    "pca.explained_variance_ratio_*100"
   ]
  },
  {
   "cell_type": "markdown",
   "id": "a0e6c19a",
   "metadata": {},
   "source": [
    "#### The first and second principle components captures around 50% information."
   ]
  },
  {
   "cell_type": "code",
   "execution_count": 29,
   "id": "a2dab20a",
   "metadata": {},
   "outputs": [],
   "source": [
    "PC=pd.DataFrame(x_pca,columns=['PC1','PC2','PC3','PC4','PC5','PC6','PC7','PC8','PC9','PC10','PC11',])"
   ]
  },
  {
   "cell_type": "code",
   "execution_count": 30,
   "id": "c48dd702",
   "metadata": {},
   "outputs": [
    {
     "data": {
      "text/html": [
       "<div>\n",
       "<style scoped>\n",
       "    .dataframe tbody tr th:only-of-type {\n",
       "        vertical-align: middle;\n",
       "    }\n",
       "\n",
       "    .dataframe tbody tr th {\n",
       "        vertical-align: top;\n",
       "    }\n",
       "\n",
       "    .dataframe thead th {\n",
       "        text-align: right;\n",
       "    }\n",
       "</style>\n",
       "<table border=\"1\" class=\"dataframe\">\n",
       "  <thead>\n",
       "    <tr style=\"text-align: right;\">\n",
       "      <th></th>\n",
       "      <th>PC1</th>\n",
       "      <th>PC2</th>\n",
       "      <th>PC3</th>\n",
       "      <th>PC4</th>\n",
       "      <th>PC5</th>\n",
       "      <th>PC6</th>\n",
       "      <th>PC7</th>\n",
       "      <th>PC8</th>\n",
       "      <th>PC9</th>\n",
       "      <th>PC10</th>\n",
       "      <th>PC11</th>\n",
       "    </tr>\n",
       "  </thead>\n",
       "  <tbody>\n",
       "    <tr>\n",
       "      <th>0</th>\n",
       "      <td>0.425367</td>\n",
       "      <td>-0.219079</td>\n",
       "      <td>0.663255</td>\n",
       "      <td>-0.401300</td>\n",
       "      <td>0.201705</td>\n",
       "      <td>-0.389767</td>\n",
       "      <td>-0.211982</td>\n",
       "      <td>0.163235</td>\n",
       "      <td>0.181007</td>\n",
       "      <td>0.515706</td>\n",
       "      <td>-0.567074</td>\n",
       "    </tr>\n",
       "    <tr>\n",
       "      <th>1</th>\n",
       "      <td>-0.218638</td>\n",
       "      <td>0.388190</td>\n",
       "      <td>-0.730827</td>\n",
       "      <td>-0.094724</td>\n",
       "      <td>0.044669</td>\n",
       "      <td>-0.086596</td>\n",
       "      <td>-0.095877</td>\n",
       "      <td>-0.034756</td>\n",
       "      <td>0.111476</td>\n",
       "      <td>0.493313</td>\n",
       "      <td>-0.500440</td>\n",
       "    </tr>\n",
       "    <tr>\n",
       "      <th>2</th>\n",
       "      <td>0.375415</td>\n",
       "      <td>0.730435</td>\n",
       "      <td>-0.122040</td>\n",
       "      <td>0.692262</td>\n",
       "      <td>0.839643</td>\n",
       "      <td>-0.687406</td>\n",
       "      <td>0.583112</td>\n",
       "      <td>0.364379</td>\n",
       "      <td>-0.322288</td>\n",
       "      <td>0.061759</td>\n",
       "      <td>0.242741</td>\n",
       "    </tr>\n",
       "    <tr>\n",
       "      <th>3</th>\n",
       "      <td>-0.172926</td>\n",
       "      <td>-0.352752</td>\n",
       "      <td>-0.843795</td>\n",
       "      <td>0.206998</td>\n",
       "      <td>-0.681415</td>\n",
       "      <td>-0.036133</td>\n",
       "      <td>-0.054284</td>\n",
       "      <td>-0.231477</td>\n",
       "      <td>-0.028003</td>\n",
       "      <td>-0.250678</td>\n",
       "      <td>-0.051034</td>\n",
       "    </tr>\n",
       "    <tr>\n",
       "      <th>4</th>\n",
       "      <td>0.187057</td>\n",
       "      <td>-0.807610</td>\n",
       "      <td>0.028537</td>\n",
       "      <td>0.548332</td>\n",
       "      <td>0.854074</td>\n",
       "      <td>-0.097305</td>\n",
       "      <td>-0.457043</td>\n",
       "      <td>0.171758</td>\n",
       "      <td>-0.074409</td>\n",
       "      <td>0.031897</td>\n",
       "      <td>0.082245</td>\n",
       "    </tr>\n",
       "  </tbody>\n",
       "</table>\n",
       "</div>"
      ],
      "text/plain": [
       "        PC1       PC2       PC3       PC4       PC5       PC6       PC7  \\\n",
       "0  0.425367 -0.219079  0.663255 -0.401300  0.201705 -0.389767 -0.211982   \n",
       "1 -0.218638  0.388190 -0.730827 -0.094724  0.044669 -0.086596 -0.095877   \n",
       "2  0.375415  0.730435 -0.122040  0.692262  0.839643 -0.687406  0.583112   \n",
       "3 -0.172926 -0.352752 -0.843795  0.206998 -0.681415 -0.036133 -0.054284   \n",
       "4  0.187057 -0.807610  0.028537  0.548332  0.854074 -0.097305 -0.457043   \n",
       "\n",
       "        PC8       PC9      PC10      PC11  \n",
       "0  0.163235  0.181007  0.515706 -0.567074  \n",
       "1 -0.034756  0.111476  0.493313 -0.500440  \n",
       "2  0.364379 -0.322288  0.061759  0.242741  \n",
       "3 -0.231477 -0.028003 -0.250678 -0.051034  \n",
       "4  0.171758 -0.074409  0.031897  0.082245  "
      ]
     },
     "execution_count": 30,
     "metadata": {},
     "output_type": "execute_result"
    }
   ],
   "source": [
    "PC.head()"
   ]
  },
  {
   "cell_type": "code",
   "execution_count": 31,
   "id": "4ffa476b",
   "metadata": {},
   "outputs": [
    {
     "data": {
      "text/html": [
       "<div>\n",
       "<style scoped>\n",
       "    .dataframe tbody tr th:only-of-type {\n",
       "        vertical-align: middle;\n",
       "    }\n",
       "\n",
       "    .dataframe tbody tr th {\n",
       "        vertical-align: top;\n",
       "    }\n",
       "\n",
       "    .dataframe thead th {\n",
       "        text-align: right;\n",
       "    }\n",
       "</style>\n",
       "<table border=\"1\" class=\"dataframe\">\n",
       "  <thead>\n",
       "    <tr style=\"text-align: right;\">\n",
       "      <th></th>\n",
       "      <th>PC1</th>\n",
       "      <th>PC2</th>\n",
       "      <th>PC3</th>\n",
       "      <th>PC4</th>\n",
       "      <th>PC5</th>\n",
       "      <th>PC6</th>\n",
       "      <th>PC7</th>\n",
       "      <th>PC8</th>\n",
       "      <th>PC9</th>\n",
       "      <th>PC10</th>\n",
       "      <th>PC11</th>\n",
       "    </tr>\n",
       "  </thead>\n",
       "  <tbody>\n",
       "    <tr>\n",
       "      <th>count</th>\n",
       "      <td>1.453000e+03</td>\n",
       "      <td>1.453000e+03</td>\n",
       "      <td>1.453000e+03</td>\n",
       "      <td>1.453000e+03</td>\n",
       "      <td>1.453000e+03</td>\n",
       "      <td>1.453000e+03</td>\n",
       "      <td>1.453000e+03</td>\n",
       "      <td>1.453000e+03</td>\n",
       "      <td>1.453000e+03</td>\n",
       "      <td>1.453000e+03</td>\n",
       "      <td>1.453000e+03</td>\n",
       "    </tr>\n",
       "    <tr>\n",
       "      <th>mean</th>\n",
       "      <td>3.316151e-17</td>\n",
       "      <td>-1.860560e-17</td>\n",
       "      <td>1.001078e-17</td>\n",
       "      <td>-2.372500e-17</td>\n",
       "      <td>4.290366e-17</td>\n",
       "      <td>-3.247383e-18</td>\n",
       "      <td>2.433627e-17</td>\n",
       "      <td>2.021019e-17</td>\n",
       "      <td>-9.379207e-18</td>\n",
       "      <td>6.269360e-17</td>\n",
       "      <td>2.693418e-17</td>\n",
       "    </tr>\n",
       "    <tr>\n",
       "      <th>std</th>\n",
       "      <td>7.570495e-01</td>\n",
       "      <td>6.074556e-01</td>\n",
       "      <td>5.046195e-01</td>\n",
       "      <td>3.987986e-01</td>\n",
       "      <td>3.374050e-01</td>\n",
       "      <td>3.102746e-01</td>\n",
       "      <td>2.896973e-01</td>\n",
       "      <td>2.751220e-01</td>\n",
       "      <td>2.652511e-01</td>\n",
       "      <td>2.488418e-01</td>\n",
       "      <td>2.369028e-01</td>\n",
       "    </tr>\n",
       "    <tr>\n",
       "      <th>min</th>\n",
       "      <td>-1.188421e+00</td>\n",
       "      <td>-1.040274e+00</td>\n",
       "      <td>-8.808133e-01</td>\n",
       "      <td>-5.906209e-01</td>\n",
       "      <td>-1.045938e+00</td>\n",
       "      <td>-8.524911e-01</td>\n",
       "      <td>-8.059463e-01</td>\n",
       "      <td>-9.316201e-01</td>\n",
       "      <td>-9.557606e-01</td>\n",
       "      <td>-8.871971e-01</td>\n",
       "      <td>-8.851439e-01</td>\n",
       "    </tr>\n",
       "    <tr>\n",
       "      <th>25%</th>\n",
       "      <td>-5.476794e-01</td>\n",
       "      <td>-3.568482e-01</td>\n",
       "      <td>-4.507793e-01</td>\n",
       "      <td>-2.814986e-01</td>\n",
       "      <td>-2.433247e-01</td>\n",
       "      <td>-1.927027e-01</td>\n",
       "      <td>-1.342190e-01</td>\n",
       "      <td>-1.717258e-01</td>\n",
       "      <td>-1.181233e-01</td>\n",
       "      <td>-1.465751e-01</td>\n",
       "      <td>-1.053163e-01</td>\n",
       "    </tr>\n",
       "    <tr>\n",
       "      <th>50%</th>\n",
       "      <td>-7.074592e-02</td>\n",
       "      <td>-1.151632e-01</td>\n",
       "      <td>2.687734e-02</td>\n",
       "      <td>-1.163200e-01</td>\n",
       "      <td>3.348785e-02</td>\n",
       "      <td>-3.460184e-02</td>\n",
       "      <td>-6.366220e-02</td>\n",
       "      <td>-3.475619e-02</td>\n",
       "      <td>3.868061e-02</td>\n",
       "      <td>3.020635e-02</td>\n",
       "      <td>-1.201409e-02</td>\n",
       "    </tr>\n",
       "    <tr>\n",
       "      <th>75%</th>\n",
       "      <td>4.933012e-01</td>\n",
       "      <td>3.915540e-01</td>\n",
       "      <td>3.515939e-01</td>\n",
       "      <td>2.702298e-01</td>\n",
       "      <td>2.048293e-01</td>\n",
       "      <td>1.747453e-01</td>\n",
       "      <td>2.318357e-02</td>\n",
       "      <td>1.295966e-01</td>\n",
       "      <td>7.987794e-02</td>\n",
       "      <td>7.001416e-02</td>\n",
       "      <td>8.554080e-02</td>\n",
       "    </tr>\n",
       "    <tr>\n",
       "      <th>max</th>\n",
       "      <td>1.705573e+00</td>\n",
       "      <td>1.279130e+00</td>\n",
       "      <td>1.326976e+00</td>\n",
       "      <td>1.355278e+00</td>\n",
       "      <td>1.053327e+00</td>\n",
       "      <td>1.323793e+00</td>\n",
       "      <td>1.350886e+00</td>\n",
       "      <td>1.121388e+00</td>\n",
       "      <td>1.086693e+00</td>\n",
       "      <td>1.181524e+00</td>\n",
       "      <td>9.255829e-01</td>\n",
       "    </tr>\n",
       "  </tbody>\n",
       "</table>\n",
       "</div>"
      ],
      "text/plain": [
       "                PC1           PC2           PC3           PC4           PC5  \\\n",
       "count  1.453000e+03  1.453000e+03  1.453000e+03  1.453000e+03  1.453000e+03   \n",
       "mean   3.316151e-17 -1.860560e-17  1.001078e-17 -2.372500e-17  4.290366e-17   \n",
       "std    7.570495e-01  6.074556e-01  5.046195e-01  3.987986e-01  3.374050e-01   \n",
       "min   -1.188421e+00 -1.040274e+00 -8.808133e-01 -5.906209e-01 -1.045938e+00   \n",
       "25%   -5.476794e-01 -3.568482e-01 -4.507793e-01 -2.814986e-01 -2.433247e-01   \n",
       "50%   -7.074592e-02 -1.151632e-01  2.687734e-02 -1.163200e-01  3.348785e-02   \n",
       "75%    4.933012e-01  3.915540e-01  3.515939e-01  2.702298e-01  2.048293e-01   \n",
       "max    1.705573e+00  1.279130e+00  1.326976e+00  1.355278e+00  1.053327e+00   \n",
       "\n",
       "                PC6           PC7           PC8           PC9          PC10  \\\n",
       "count  1.453000e+03  1.453000e+03  1.453000e+03  1.453000e+03  1.453000e+03   \n",
       "mean  -3.247383e-18  2.433627e-17  2.021019e-17 -9.379207e-18  6.269360e-17   \n",
       "std    3.102746e-01  2.896973e-01  2.751220e-01  2.652511e-01  2.488418e-01   \n",
       "min   -8.524911e-01 -8.059463e-01 -9.316201e-01 -9.557606e-01 -8.871971e-01   \n",
       "25%   -1.927027e-01 -1.342190e-01 -1.717258e-01 -1.181233e-01 -1.465751e-01   \n",
       "50%   -3.460184e-02 -6.366220e-02 -3.475619e-02  3.868061e-02  3.020635e-02   \n",
       "75%    1.747453e-01  2.318357e-02  1.295966e-01  7.987794e-02  7.001416e-02   \n",
       "max    1.323793e+00  1.350886e+00  1.121388e+00  1.086693e+00  1.181524e+00   \n",
       "\n",
       "               PC11  \n",
       "count  1.453000e+03  \n",
       "mean   2.693418e-17  \n",
       "std    2.369028e-01  \n",
       "min   -8.851439e-01  \n",
       "25%   -1.053163e-01  \n",
       "50%   -1.201409e-02  \n",
       "75%    8.554080e-02  \n",
       "max    9.255829e-01  "
      ]
     },
     "execution_count": 31,
     "metadata": {},
     "output_type": "execute_result"
    }
   ],
   "source": [
    "PC.describe()"
   ]
  },
  {
   "cell_type": "code",
   "execution_count": 32,
   "id": "45427281",
   "metadata": {},
   "outputs": [
    {
     "data": {
      "text/plain": [
       "PC1     0.757050\n",
       "PC2     0.607456\n",
       "PC3     0.504619\n",
       "PC4     0.398799\n",
       "PC5     0.337405\n",
       "PC6     0.310275\n",
       "PC7     0.289697\n",
       "PC8     0.275122\n",
       "PC9     0.265251\n",
       "PC10    0.248842\n",
       "PC11    0.236903\n",
       "Name: std, dtype: float64"
      ]
     },
     "execution_count": 32,
     "metadata": {},
     "output_type": "execute_result"
    }
   ],
   "source": [
    "PC.describe().loc['std']"
   ]
  },
  {
   "cell_type": "code",
   "execution_count": null,
   "id": "82f16e58",
   "metadata": {},
   "outputs": [],
   "source": []
  },
  {
   "cell_type": "code",
   "execution_count": 33,
   "id": "ef6c8be3",
   "metadata": {},
   "outputs": [],
   "source": [
    "PC_composition=pd.DataFrame(pca.components_,index=['PC1','PC2','PC3','PC4','PC5','PC6','PC7','PC8','PC9','PC10','PC11'],columns=df_criteria.columns)"
   ]
  },
  {
   "cell_type": "code",
   "execution_count": 34,
   "id": "1f16401d",
   "metadata": {},
   "outputs": [
    {
     "data": {
      "text/html": [
       "<div>\n",
       "<style scoped>\n",
       "    .dataframe tbody tr th:only-of-type {\n",
       "        vertical-align: middle;\n",
       "    }\n",
       "\n",
       "    .dataframe tbody tr th {\n",
       "        vertical-align: top;\n",
       "    }\n",
       "\n",
       "    .dataframe thead th {\n",
       "        text-align: right;\n",
       "    }\n",
       "</style>\n",
       "<table border=\"1\" class=\"dataframe\">\n",
       "  <thead>\n",
       "    <tr style=\"text-align: right;\">\n",
       "      <th></th>\n",
       "      <th>yummy</th>\n",
       "      <th>convenient</th>\n",
       "      <th>spicy</th>\n",
       "      <th>fattening</th>\n",
       "      <th>greasy</th>\n",
       "      <th>fast</th>\n",
       "      <th>cheap</th>\n",
       "      <th>tasty</th>\n",
       "      <th>expensive</th>\n",
       "      <th>healthy</th>\n",
       "      <th>disgusting</th>\n",
       "    </tr>\n",
       "  </thead>\n",
       "  <tbody>\n",
       "    <tr>\n",
       "      <th>PC1</th>\n",
       "      <td>-0.476933</td>\n",
       "      <td>-0.155332</td>\n",
       "      <td>-0.006356</td>\n",
       "      <td>0.116232</td>\n",
       "      <td>0.304443</td>\n",
       "      <td>-0.108493</td>\n",
       "      <td>-0.337186</td>\n",
       "      <td>-0.471514</td>\n",
       "      <td>0.329042</td>\n",
       "      <td>-0.213711</td>\n",
       "      <td>0.374753</td>\n",
       "    </tr>\n",
       "    <tr>\n",
       "      <th>PC2</th>\n",
       "      <td>0.363790</td>\n",
       "      <td>0.016414</td>\n",
       "      <td>0.018809</td>\n",
       "      <td>-0.034094</td>\n",
       "      <td>-0.063839</td>\n",
       "      <td>-0.086972</td>\n",
       "      <td>-0.610633</td>\n",
       "      <td>0.307318</td>\n",
       "      <td>0.601286</td>\n",
       "      <td>0.076593</td>\n",
       "      <td>-0.139656</td>\n",
       "    </tr>\n",
       "    <tr>\n",
       "      <th>PC3</th>\n",
       "      <td>-0.304444</td>\n",
       "      <td>-0.062515</td>\n",
       "      <td>-0.037019</td>\n",
       "      <td>-0.322359</td>\n",
       "      <td>-0.802373</td>\n",
       "      <td>-0.064642</td>\n",
       "      <td>-0.149310</td>\n",
       "      <td>-0.287265</td>\n",
       "      <td>0.024397</td>\n",
       "      <td>0.192051</td>\n",
       "      <td>-0.088571</td>\n",
       "    </tr>\n",
       "    <tr>\n",
       "      <th>PC4</th>\n",
       "      <td>0.055162</td>\n",
       "      <td>-0.142425</td>\n",
       "      <td>0.197619</td>\n",
       "      <td>-0.354139</td>\n",
       "      <td>0.253960</td>\n",
       "      <td>-0.097363</td>\n",
       "      <td>0.118958</td>\n",
       "      <td>-0.002547</td>\n",
       "      <td>0.067816</td>\n",
       "      <td>0.763488</td>\n",
       "      <td>0.369539</td>\n",
       "    </tr>\n",
       "    <tr>\n",
       "      <th>PC5</th>\n",
       "      <td>-0.307535</td>\n",
       "      <td>0.277608</td>\n",
       "      <td>0.070620</td>\n",
       "      <td>-0.073405</td>\n",
       "      <td>0.361399</td>\n",
       "      <td>0.107930</td>\n",
       "      <td>-0.128973</td>\n",
       "      <td>-0.210899</td>\n",
       "      <td>-0.003125</td>\n",
       "      <td>0.287846</td>\n",
       "      <td>-0.729209</td>\n",
       "    </tr>\n",
       "    <tr>\n",
       "      <th>PC6</th>\n",
       "      <td>0.170738</td>\n",
       "      <td>-0.347830</td>\n",
       "      <td>-0.355087</td>\n",
       "      <td>-0.406515</td>\n",
       "      <td>0.209347</td>\n",
       "      <td>-0.594632</td>\n",
       "      <td>-0.103241</td>\n",
       "      <td>-0.076914</td>\n",
       "      <td>-0.261342</td>\n",
       "      <td>-0.178226</td>\n",
       "      <td>-0.210878</td>\n",
       "    </tr>\n",
       "    <tr>\n",
       "      <th>PC7</th>\n",
       "      <td>-0.280519</td>\n",
       "      <td>-0.059738</td>\n",
       "      <td>0.707637</td>\n",
       "      <td>-0.385943</td>\n",
       "      <td>0.036170</td>\n",
       "      <td>-0.086846</td>\n",
       "      <td>-0.040449</td>\n",
       "      <td>0.360453</td>\n",
       "      <td>-0.068385</td>\n",
       "      <td>-0.349616</td>\n",
       "      <td>-0.026792</td>\n",
       "    </tr>\n",
       "    <tr>\n",
       "      <th>PC8</th>\n",
       "      <td>0.013041</td>\n",
       "      <td>-0.113079</td>\n",
       "      <td>0.375934</td>\n",
       "      <td>0.589622</td>\n",
       "      <td>-0.138241</td>\n",
       "      <td>-0.627799</td>\n",
       "      <td>0.140060</td>\n",
       "      <td>-0.072792</td>\n",
       "      <td>0.029539</td>\n",
       "      <td>0.176303</td>\n",
       "      <td>-0.167181</td>\n",
       "    </tr>\n",
       "    <tr>\n",
       "      <th>PC9</th>\n",
       "      <td>0.572403</td>\n",
       "      <td>-0.018465</td>\n",
       "      <td>0.400280</td>\n",
       "      <td>-0.160512</td>\n",
       "      <td>-0.002847</td>\n",
       "      <td>0.166197</td>\n",
       "      <td>0.076069</td>\n",
       "      <td>-0.639086</td>\n",
       "      <td>0.066996</td>\n",
       "      <td>-0.185572</td>\n",
       "      <td>-0.072483</td>\n",
       "    </tr>\n",
       "    <tr>\n",
       "      <th>PC10</th>\n",
       "      <td>-0.110284</td>\n",
       "      <td>-0.665818</td>\n",
       "      <td>-0.075634</td>\n",
       "      <td>-0.005338</td>\n",
       "      <td>0.008707</td>\n",
       "      <td>0.239532</td>\n",
       "      <td>0.428087</td>\n",
       "      <td>0.079184</td>\n",
       "      <td>0.454399</td>\n",
       "      <td>-0.038117</td>\n",
       "      <td>-0.289592</td>\n",
       "    </tr>\n",
       "    <tr>\n",
       "      <th>PC11</th>\n",
       "      <td>0.045439</td>\n",
       "      <td>-0.541616</td>\n",
       "      <td>0.141730</td>\n",
       "      <td>0.250910</td>\n",
       "      <td>0.001642</td>\n",
       "      <td>0.339265</td>\n",
       "      <td>-0.489283</td>\n",
       "      <td>0.019552</td>\n",
       "      <td>-0.490069</td>\n",
       "      <td>0.157608</td>\n",
       "      <td>-0.040662</td>\n",
       "    </tr>\n",
       "  </tbody>\n",
       "</table>\n",
       "</div>"
      ],
      "text/plain": [
       "         yummy  convenient     spicy  fattening    greasy      fast     cheap  \\\n",
       "PC1  -0.476933   -0.155332 -0.006356   0.116232  0.304443 -0.108493 -0.337186   \n",
       "PC2   0.363790    0.016414  0.018809  -0.034094 -0.063839 -0.086972 -0.610633   \n",
       "PC3  -0.304444   -0.062515 -0.037019  -0.322359 -0.802373 -0.064642 -0.149310   \n",
       "PC4   0.055162   -0.142425  0.197619  -0.354139  0.253960 -0.097363  0.118958   \n",
       "PC5  -0.307535    0.277608  0.070620  -0.073405  0.361399  0.107930 -0.128973   \n",
       "PC6   0.170738   -0.347830 -0.355087  -0.406515  0.209347 -0.594632 -0.103241   \n",
       "PC7  -0.280519   -0.059738  0.707637  -0.385943  0.036170 -0.086846 -0.040449   \n",
       "PC8   0.013041   -0.113079  0.375934   0.589622 -0.138241 -0.627799  0.140060   \n",
       "PC9   0.572403   -0.018465  0.400280  -0.160512 -0.002847  0.166197  0.076069   \n",
       "PC10 -0.110284   -0.665818 -0.075634  -0.005338  0.008707  0.239532  0.428087   \n",
       "PC11  0.045439   -0.541616  0.141730   0.250910  0.001642  0.339265 -0.489283   \n",
       "\n",
       "         tasty  expensive   healthy  disgusting  \n",
       "PC1  -0.471514   0.329042 -0.213711    0.374753  \n",
       "PC2   0.307318   0.601286  0.076593   -0.139656  \n",
       "PC3  -0.287265   0.024397  0.192051   -0.088571  \n",
       "PC4  -0.002547   0.067816  0.763488    0.369539  \n",
       "PC5  -0.210899  -0.003125  0.287846   -0.729209  \n",
       "PC6  -0.076914  -0.261342 -0.178226   -0.210878  \n",
       "PC7   0.360453  -0.068385 -0.349616   -0.026792  \n",
       "PC8  -0.072792   0.029539  0.176303   -0.167181  \n",
       "PC9  -0.639086   0.066996 -0.185572   -0.072483  \n",
       "PC10  0.079184   0.454399 -0.038117   -0.289592  \n",
       "PC11  0.019552  -0.490069  0.157608   -0.040662  "
      ]
     },
     "execution_count": 34,
     "metadata": {},
     "output_type": "execute_result"
    }
   ],
   "source": [
    "PC_composition"
   ]
  },
  {
   "cell_type": "code",
   "execution_count": 35,
   "id": "c9b803a7",
   "metadata": {},
   "outputs": [
    {
     "data": {
      "text/plain": [
       "<AxesSubplot:>"
      ]
     },
     "execution_count": 35,
     "metadata": {},
     "output_type": "execute_result"
    },
    {
     "data": {
      "image/png": "[encoded data removed]",
      "text/plain": [
       "<Figure size 720x432 with 2 Axes>"
      ]
     },
     "metadata": {
      "needs_background": "light"
     },
     "output_type": "display_data"
    }
   ],
   "source": [
    "plt.figure(figsize=(10,6))\n",
    "sns.heatmap(PC_composition)"
   ]
  },
  {
   "cell_type": "markdown",
   "id": "f52ba4bf",
   "metadata": {},
   "source": [
    "### For principal component 1 are Yummy,tasty, greasy and disgusting are the variables with highest loading, indicating that this principal component captures the taste dimension.\n",
    "\n",
    "### For principal component 2 are CHEAP and EXPENSIVE are the variables with highest loading, indicating that this component captures the price dimension."
   ]
  },
  {
   "cell_type": "code",
   "execution_count": 36,
   "id": "a7f335c6",
   "metadata": {},
   "outputs": [],
   "source": [
    "def biplot(score,coeff,labels=None):\n",
    "    xs = score[:,0]\n",
    "    ys = score[:,1]\n",
    "    n= coeff.shape[0]\n",
    "    scalex = 1.5/(xs.max()-xs.min())\n",
    "    scaley = 1.5/(ys.max()-ys.min())\n",
    "    fig,ax = plt.subplots(figsize=(12,10))\n",
    "    \n",
    "    sns.scatterplot(xs*scalex,ys*scaley)\n",
    "    \n",
    "    #for i ,txt in enumerate(names):\n",
    "        #ax.annotate(txt,(xs[i]*scalex,ys[i]*scaley))\n",
    "        \n",
    "    for i in range(n):\n",
    "        ax.arrow(0,0,coeff[i,0],coeff[i,1],color='r',alpha=0.5)\n",
    "        if labels is None:\n",
    "            ax.text(coeff[i,0]*1.15,coeff[i,1]*1.15,\"Var\"+str(i+1),color='g',ha='center',va='center')\n",
    "        else:\n",
    "            ax.text(coeff[i,0]*1.15,coeff[i,1]*1.15,labels[i],color='g',ha='center',va='center')\n",
    "    ax.set_xlim(-1,1)\n",
    "    ax.set_ylim(-1,1)\n",
    "    ax.set_xlabel(\"PC{}\".format(1))\n",
    "    ax.set_ylabel(\"PC{}\".format(2))\n",
    "    "
   ]
  },
  {
   "cell_type": "code",
   "execution_count": 37,
   "id": "c8a62b9b",
   "metadata": {},
   "outputs": [
    {
     "name": "stderr",
     "output_type": "stream",
     "text": [
      "C:\\Users\\91938\\anaconda3\\lib\\site-packages\\seaborn\\_decorators.py:36: FutureWarning: Pass the following variables as keyword args: x, y. From version 0.12, the only valid positional argument will be `data`, and passing other arguments without an explicit keyword will result in an error or misinterpretation.\n",
      "  warnings.warn(\n"
     ]
    },
    {
     "data": {
      "image/png": "[encoded data removed]",
      "text/plain": [
       "<Figure size 864x720 with 1 Axes>"
      ]
     },
     "metadata": {
      "needs_background": "light"
     },
     "output_type": "display_data"
    }
   ],
   "source": [
    "biplot(x_pca[:,0:2],np.transpose(pca.components_[0:2,:]),labels=df_criteria.columns)"
   ]
  },
  {
   "cell_type": "markdown",
   "id": "9c3205be",
   "metadata": {},
   "source": [
    "The attributes CHEAP and\n",
    "EXPENSIVE play a key role in the evaluation of McDonald’s, and these two attributes\n",
    "are assessed quite independently of the others. The remaining attributes align\n",
    "with what can be interpreted as positive versus negative perceptions: FATTENING,\n",
    "DISGUSTING and GREASY point in the same direction in the perceptual chart,\n",
    "indicating that respondents who view McDonald’s as FATTENING, DISGUSTING are\n",
    "also likely to view it as GREASY. In the opposite direction are the positive attributes\n",
    "FAST, CONVENIENT, HEALTHY, as well as TASTY and YUMMY. The observations\n",
    "along the EXPENSIVE versus CHEAP axis cluster around three values: a group of\n",
    "consumers at the top around the arrow pointing to CHEAP, a group of respondents\n",
    "at the bottom around the arrow pointing to EXPENSIVE, and a group of respondents\n",
    "in the middle."
   ]
  },
  {
   "cell_type": "raw",
   "id": "307aa85b",
   "metadata": {},
   "source": []
  },
  {
   "cell_type": "markdown",
   "id": "61a8e222",
   "metadata": {},
   "source": [
    "## Extracting Segments"
   ]
  },
  {
   "cell_type": "markdown",
   "id": "3530f676",
   "metadata": {},
   "source": [
    "###  Using k-means"
   ]
  },
  {
   "cell_type": "markdown",
   "id": "bcded927",
   "metadata": {},
   "source": [
    "### First let us find the number of k"
   ]
  },
  {
   "cell_type": "code",
   "execution_count": 38,
   "id": "55cd62d3",
   "metadata": {},
   "outputs": [],
   "source": [
    "from yellowbrick.cluster import KElbowVisualizer"
   ]
  },
  {
   "cell_type": "code",
   "execution_count": 39,
   "id": "6f1b7742",
   "metadata": {},
   "outputs": [],
   "source": [
    "from sklearn.cluster import KMeans"
   ]
  },
  {
   "cell_type": "code",
   "execution_count": 40,
   "id": "949d1d87",
   "metadata": {},
   "outputs": [
    {
     "data": {
      "image/png": "[encoded data removed]",
      "text/plain": [
       "<Figure size 576x396 with 2 Axes>"
      ]
     },
     "metadata": {},
     "output_type": "display_data"
    },
    {
     "data": {
      "text/plain": [
       "<AxesSubplot:title={'center':'Distortion Score Elbow for KMeans Clustering'}, xlabel='k', ylabel='distortion score'>"
      ]
     },
     "execution_count": 40,
     "metadata": {},
     "output_type": "execute_result"
    }
   ],
   "source": [
    "model = KMeans()\n",
    "visualizer = KElbowVisualizer(model, k=(2,8)).fit(df_criteria)\n",
    "visualizer.show()"
   ]
  },
  {
   "cell_type": "code",
   "execution_count": 41,
   "id": "6ad795d1",
   "metadata": {},
   "outputs": [],
   "source": [
    "model2=KMeans()"
   ]
  },
  {
   "cell_type": "code",
   "execution_count": 42,
   "id": "5a8f2a2a",
   "metadata": {},
   "outputs": [
    {
     "data": {
      "image/png": "[encoded data removed]",
      "text/plain": [
       "<Figure size 576x396 with 2 Axes>"
      ]
     },
     "metadata": {},
     "output_type": "display_data"
    },
    {
     "data": {
      "text/plain": [
       "<AxesSubplot:title={'center':'Silhouette Score Elbow for KMeans Clustering'}, xlabel='k', ylabel='silhouette score'>"
      ]
     },
     "execution_count": 42,
     "metadata": {},
     "output_type": "execute_result"
    }
   ],
   "source": [
    "visualizer2 = KElbowVisualizer(model2, k=(3,10),metric='silhouette')\n",
    "visualizer2.fit(df_criteria)        \n",
    "visualizer2.show()   "
   ]
  },
  {
   "cell_type": "code",
   "execution_count": 43,
   "id": "b7dee3aa",
   "metadata": {},
   "outputs": [
    {
     "data": {
      "image/png": "[encoded data removed]",
      "text/plain": [
       "<Figure size 1080x504 with 1 Axes>"
      ]
     },
     "metadata": {},
     "output_type": "display_data"
    }
   ],
   "source": [
    "import scipy.cluster.hierarchy as shc\n",
    "\n",
    "plt.figure(figsize=(15, 7))  \n",
    "plt.title(\"Dendrograms\")  \n",
    "dend = shc.dendrogram(shc.linkage(df_criteria, method='ward'))"
   ]
  },
  {
   "cell_type": "code",
   "execution_count": null,
   "id": "c8cea957",
   "metadata": {},
   "outputs": [],
   "source": []
  },
  {
   "cell_type": "code",
   "execution_count": 44,
   "id": "7f5045ff",
   "metadata": {},
   "outputs": [],
   "source": [
    "from sklearn.mixture import GaussianMixture"
   ]
  },
  {
   "cell_type": "code",
   "execution_count": 45,
   "id": "47a937d5",
   "metadata": {},
   "outputs": [],
   "source": [
    "n_components = range(1, 10)\n",
    "#covariance_type = ['spherical', 'tied', 'diag', 'full']\n",
    "score=[]\n",
    "for n_comp in n_components:\n",
    "    gmm=GaussianMixture(n_components=n_comp)\n",
    "    gmm.fit(df_criteria)\n",
    "    score.append((n_comp,gmm.bic(df_criteria)))"
   ]
  },
  {
   "cell_type": "code",
   "execution_count": 46,
   "id": "c53496f6",
   "metadata": {},
   "outputs": [],
   "source": [
    "BIC_Score=pd.DataFrame(score,columns=[['Number of clusters','BIC score']])"
   ]
  },
  {
   "cell_type": "code",
   "execution_count": 47,
   "id": "5570ba43",
   "metadata": {},
   "outputs": [
    {
     "data": {
      "text/plain": [
       "[]"
      ]
     },
     "execution_count": 47,
     "metadata": {},
     "output_type": "execute_result"
    },
    {
     "data": {
      "image/png": "[encoded data removed]",
      "text/plain": [
       "<Figure size 864x432 with 1 Axes>"
      ]
     },
     "metadata": {},
     "output_type": "display_data"
    }
   ],
   "source": [
    "fig, ax = plt.subplots(figsize=(12,6))\n",
    "\n",
    "ax.plot(BIC_Score['Number of clusters'],BIC_Score['BIC score'])\n",
    "plt.plot()\n"
   ]
  },
  {
   "cell_type": "markdown",
   "id": "65127405",
   "metadata": {},
   "source": [
    "#### From all the above analysis, we can conclude that 4 clusters seems like a good fit for the data."
   ]
  },
  {
   "cell_type": "markdown",
   "id": "a2e1189f",
   "metadata": {},
   "source": [
    "## Applying k means to get 4 customer segments"
   ]
  },
  {
   "cell_type": "code",
   "execution_count": 48,
   "id": "611309d5",
   "metadata": {},
   "outputs": [],
   "source": [
    "kmeans = KMeans(n_clusters=4).fit(df_criteria)"
   ]
  },
  {
   "cell_type": "code",
   "execution_count": 49,
   "id": "9d2f4cf2",
   "metadata": {},
   "outputs": [],
   "source": [
    "segments=kmeans.labels_"
   ]
  },
  {
   "cell_type": "code",
   "execution_count": 50,
   "id": "c521feba",
   "metadata": {},
   "outputs": [],
   "source": [
    "centre=kmeans.cluster_centers_"
   ]
  },
  {
   "cell_type": "code",
   "execution_count": 51,
   "id": "9066ebe7",
   "metadata": {},
   "outputs": [
    {
     "name": "stderr",
     "output_type": "stream",
     "text": [
      "C:\\Users\\91938\\AppData\\Local\\Temp/ipykernel_3132/2071998636.py:1: SettingWithCopyWarning: \n",
      "A value is trying to be set on a copy of a slice from a DataFrame.\n",
      "Try using .loc[row_indexer,col_indexer] = value instead\n",
      "\n",
      "See the caveats in the documentation: https://pandas.pydata.org/pandas-docs/stable/user_guide/indexing.html#returning-a-view-versus-a-copy\n",
      "  df_criteria['Cluster']=segments\n"
     ]
    },
    {
     "data": {
      "text/html": [
       "<div>\n",
       "<style scoped>\n",
       "    .dataframe tbody tr th:only-of-type {\n",
       "        vertical-align: middle;\n",
       "    }\n",
       "\n",
       "    .dataframe tbody tr th {\n",
       "        vertical-align: top;\n",
       "    }\n",
       "\n",
       "    .dataframe thead th {\n",
       "        text-align: right;\n",
       "    }\n",
       "</style>\n",
       "<table border=\"1\" class=\"dataframe\">\n",
       "  <thead>\n",
       "    <tr style=\"text-align: right;\">\n",
       "      <th></th>\n",
       "      <th>yummy</th>\n",
       "      <th>convenient</th>\n",
       "      <th>spicy</th>\n",
       "      <th>fattening</th>\n",
       "      <th>greasy</th>\n",
       "      <th>fast</th>\n",
       "      <th>cheap</th>\n",
       "      <th>tasty</th>\n",
       "      <th>expensive</th>\n",
       "      <th>healthy</th>\n",
       "      <th>disgusting</th>\n",
       "      <th>Cluster</th>\n",
       "    </tr>\n",
       "  </thead>\n",
       "  <tbody>\n",
       "    <tr>\n",
       "      <th>0</th>\n",
       "      <td>0</td>\n",
       "      <td>1</td>\n",
       "      <td>0</td>\n",
       "      <td>1</td>\n",
       "      <td>0</td>\n",
       "      <td>1</td>\n",
       "      <td>1</td>\n",
       "      <td>0</td>\n",
       "      <td>1</td>\n",
       "      <td>0</td>\n",
       "      <td>0</td>\n",
       "      <td>3</td>\n",
       "    </tr>\n",
       "    <tr>\n",
       "      <th>1</th>\n",
       "      <td>1</td>\n",
       "      <td>1</td>\n",
       "      <td>0</td>\n",
       "      <td>1</td>\n",
       "      <td>1</td>\n",
       "      <td>1</td>\n",
       "      <td>1</td>\n",
       "      <td>1</td>\n",
       "      <td>1</td>\n",
       "      <td>0</td>\n",
       "      <td>0</td>\n",
       "      <td>2</td>\n",
       "    </tr>\n",
       "  </tbody>\n",
       "</table>\n",
       "</div>"
      ],
      "text/plain": [
       "   yummy  convenient  spicy  fattening  greasy  fast  cheap  tasty  expensive  \\\n",
       "0      0           1      0          1       0     1      1      0          1   \n",
       "1      1           1      0          1       1     1      1      1          1   \n",
       "\n",
       "   healthy  disgusting  Cluster  \n",
       "0        0           0        3  \n",
       "1        0           0        2  "
      ]
     },
     "execution_count": 51,
     "metadata": {},
     "output_type": "execute_result"
    }
   ],
   "source": [
    "df_criteria['Cluster']=segments\n",
    "df_criteria.head(2)"
   ]
  },
  {
   "cell_type": "markdown",
   "id": "9a94cfaf",
   "metadata": {},
   "source": [
    "#### Lets rename the clusters a little better."
   ]
  },
  {
   "cell_type": "code",
   "execution_count": 52,
   "id": "b137b46a",
   "metadata": {},
   "outputs": [],
   "source": [
    "def Cluster_namer(num):\n",
    "    if(num==0):\n",
    "        return 'A'\n",
    "    elif(num==1):\n",
    "        return 'B'\n",
    "    elif(num==2):\n",
    "        return 'C'\n",
    "    else:\n",
    "        return 'D'"
   ]
  },
  {
   "cell_type": "code",
   "execution_count": 53,
   "id": "abb9fd82",
   "metadata": {},
   "outputs": [
    {
     "name": "stderr",
     "output_type": "stream",
     "text": [
      "C:\\Users\\91938\\AppData\\Local\\Temp/ipykernel_3132/4289545113.py:1: SettingWithCopyWarning: \n",
      "A value is trying to be set on a copy of a slice from a DataFrame.\n",
      "Try using .loc[row_indexer,col_indexer] = value instead\n",
      "\n",
      "See the caveats in the documentation: https://pandas.pydata.org/pandas-docs/stable/user_guide/indexing.html#returning-a-view-versus-a-copy\n",
      "  df_criteria['Cluster']=df_criteria['Cluster'].apply(lambda x:Cluster_namer(x))\n"
     ]
    }
   ],
   "source": [
    "df_criteria['Cluster']=df_criteria['Cluster'].apply(lambda x:Cluster_namer(x))"
   ]
  },
  {
   "cell_type": "code",
   "execution_count": 54,
   "id": "26c29aeb",
   "metadata": {},
   "outputs": [
    {
     "data": {
      "text/html": [
       "<div>\n",
       "<style scoped>\n",
       "    .dataframe tbody tr th:only-of-type {\n",
       "        vertical-align: middle;\n",
       "    }\n",
       "\n",
       "    .dataframe tbody tr th {\n",
       "        vertical-align: top;\n",
       "    }\n",
       "\n",
       "    .dataframe thead th {\n",
       "        text-align: right;\n",
       "    }\n",
       "</style>\n",
       "<table border=\"1\" class=\"dataframe\">\n",
       "  <thead>\n",
       "    <tr style=\"text-align: right;\">\n",
       "      <th></th>\n",
       "      <th>yummy</th>\n",
       "      <th>convenient</th>\n",
       "      <th>spicy</th>\n",
       "      <th>fattening</th>\n",
       "      <th>greasy</th>\n",
       "      <th>fast</th>\n",
       "      <th>cheap</th>\n",
       "      <th>tasty</th>\n",
       "      <th>expensive</th>\n",
       "      <th>healthy</th>\n",
       "      <th>disgusting</th>\n",
       "      <th>Cluster</th>\n",
       "    </tr>\n",
       "  </thead>\n",
       "  <tbody>\n",
       "    <tr>\n",
       "      <th>0</th>\n",
       "      <td>0</td>\n",
       "      <td>1</td>\n",
       "      <td>0</td>\n",
       "      <td>1</td>\n",
       "      <td>0</td>\n",
       "      <td>1</td>\n",
       "      <td>1</td>\n",
       "      <td>0</td>\n",
       "      <td>1</td>\n",
       "      <td>0</td>\n",
       "      <td>0</td>\n",
       "      <td>D</td>\n",
       "    </tr>\n",
       "    <tr>\n",
       "      <th>1</th>\n",
       "      <td>1</td>\n",
       "      <td>1</td>\n",
       "      <td>0</td>\n",
       "      <td>1</td>\n",
       "      <td>1</td>\n",
       "      <td>1</td>\n",
       "      <td>1</td>\n",
       "      <td>1</td>\n",
       "      <td>1</td>\n",
       "      <td>0</td>\n",
       "      <td>0</td>\n",
       "      <td>C</td>\n",
       "    </tr>\n",
       "    <tr>\n",
       "      <th>2</th>\n",
       "      <td>0</td>\n",
       "      <td>1</td>\n",
       "      <td>1</td>\n",
       "      <td>1</td>\n",
       "      <td>1</td>\n",
       "      <td>1</td>\n",
       "      <td>0</td>\n",
       "      <td>1</td>\n",
       "      <td>1</td>\n",
       "      <td>1</td>\n",
       "      <td>0</td>\n",
       "      <td>C</td>\n",
       "    </tr>\n",
       "    <tr>\n",
       "      <th>3</th>\n",
       "      <td>1</td>\n",
       "      <td>1</td>\n",
       "      <td>0</td>\n",
       "      <td>1</td>\n",
       "      <td>1</td>\n",
       "      <td>1</td>\n",
       "      <td>1</td>\n",
       "      <td>1</td>\n",
       "      <td>0</td>\n",
       "      <td>0</td>\n",
       "      <td>1</td>\n",
       "      <td>B</td>\n",
       "    </tr>\n",
       "    <tr>\n",
       "      <th>4</th>\n",
       "      <td>0</td>\n",
       "      <td>1</td>\n",
       "      <td>0</td>\n",
       "      <td>1</td>\n",
       "      <td>1</td>\n",
       "      <td>1</td>\n",
       "      <td>1</td>\n",
       "      <td>0</td>\n",
       "      <td>0</td>\n",
       "      <td>1</td>\n",
       "      <td>0</td>\n",
       "      <td>D</td>\n",
       "    </tr>\n",
       "  </tbody>\n",
       "</table>\n",
       "</div>"
      ],
      "text/plain": [
       "   yummy  convenient  spicy  fattening  greasy  fast  cheap  tasty  expensive  \\\n",
       "0      0           1      0          1       0     1      1      0          1   \n",
       "1      1           1      0          1       1     1      1      1          1   \n",
       "2      0           1      1          1       1     1      0      1          1   \n",
       "3      1           1      0          1       1     1      1      1          0   \n",
       "4      0           1      0          1       1     1      1      0          0   \n",
       "\n",
       "   healthy  disgusting Cluster  \n",
       "0        0           0       D  \n",
       "1        0           0       C  \n",
       "2        1           0       C  \n",
       "3        0           1       B  \n",
       "4        1           0       D  "
      ]
     },
     "execution_count": 54,
     "metadata": {},
     "output_type": "execute_result"
    }
   ],
   "source": [
    "df_criteria.head()"
   ]
  },
  {
   "cell_type": "raw",
   "id": "8154e035",
   "metadata": {},
   "source": []
  },
  {
   "cell_type": "code",
   "execution_count": 55,
   "id": "3ce05fd2",
   "metadata": {},
   "outputs": [
    {
     "data": {
      "text/plain": [
       "<matplotlib.legend.Legend at 0x2a2ed152f70>"
      ]
     },
     "execution_count": 55,
     "metadata": {},
     "output_type": "execute_result"
    },
    {
     "data": {
      "image/png": "[encoded data removed]",
      "text/plain": [
       "<Figure size 720x576 with 1 Axes>"
      ]
     },
     "metadata": {},
     "output_type": "display_data"
    }
   ],
   "source": [
    "plt.figure(figsize=(10,8))\n",
    "sns.scatterplot(data=PC, x=\"PC1\", y=\"PC2\", hue=df_criteria['Cluster'])\n",
    "plt.scatter(kmeans.cluster_centers_[:,0], kmeans.cluster_centers_[:,1], \n",
    "            marker=\"X\", c=\"r\", s=80, label=\"centroids\")\n",
    "plt.legend()"
   ]
  },
  {
   "cell_type": "raw",
   "id": "e4f00254",
   "metadata": {},
   "source": []
  },
  {
   "cell_type": "code",
   "execution_count": 56,
   "id": "42cd9abc",
   "metadata": {},
   "outputs": [
    {
     "data": {
      "image/png": "[encoded data removed]",
      "text/plain": [
       "<Figure size 432x432 with 1 Axes>"
      ]
     },
     "metadata": {},
     "output_type": "display_data"
    }
   ],
   "source": [
    "plt.figure(figsize=(6,6))\n",
    "plt.pie(df_criteria['Cluster'].value_counts(),autopct='%1.2f%%',explode=[.1,0,0,0])\n",
    "plt.legend(df_criteria['Cluster'].value_counts().index)\n",
    "plt.show()"
   ]
  },
  {
   "cell_type": "code",
   "execution_count": 57,
   "id": "9b73d3db",
   "metadata": {},
   "outputs": [
    {
     "data": {
      "text/plain": [
       "Text(0.5, 1.0, 'Cluster D')"
      ]
     },
     "execution_count": 57,
     "metadata": {},
     "output_type": "execute_result"
    },
    {
     "data": {
      "image/png": "[encoded data removed]",
      "text/plain": [
       "<Figure size 1296x648 with 4 Axes>"
      ]
     },
     "metadata": {},
     "output_type": "display_data"
    }
   ],
   "source": [
    "plt.figure(figsize=(18,9))\n",
    "plt.subplot(2,2,1)\n",
    "#plt.figure(figsize=(5,4))\n",
    "\n",
    "\n",
    "sns.barplot(data=df_criteria[df_criteria['Cluster']=='A'].drop(['Cluster'],axis=1))\n",
    "plt.tick_params(axis='x',label1On=False)\n",
    "plt.title('Cluster A')\n",
    "\n",
    "plt.subplot(2,2,2)\n",
    "#plt.figure(figsize=(5,4))\n",
    "\n",
    "sns.barplot(data=df_criteria[df_criteria['Cluster']=='B'].drop(['Cluster'],axis=1))\n",
    "plt.tick_params(axis='x',label1On=False)\n",
    "plt.title('Cluster B')\n",
    "\n",
    "plt.subplot(2,2,3)\n",
    "#plt.figure(figsize=(5,4))\n",
    "plt.xticks(rotation = 45)\n",
    "sns.barplot(data=df_criteria[df_criteria['Cluster']=='C'].drop(['Cluster'],axis=1))\n",
    "plt.title('Cluster C')\n",
    "\n",
    "plt.subplot(2,2,4)\n",
    "#plt.figure(figsize=(5,4))\n",
    "plt.xticks(rotation =45)\n",
    "sns.barplot(data=df_criteria[df_criteria['Cluster']=='D'].drop(['Cluster'],axis=1))\n",
    "plt.title('Cluster D')"
   ]
  },
  {
   "cell_type": "markdown",
   "id": "c273c356",
   "metadata": {},
   "source": [
    "We see that segment D thinks McDonald’s is cheap and greasy. This is a very distinct perception. Segment A views McDonald’s as disgusting and expensive. This is also a very distinct perception, setting apart members of this segment from all other consumers. Members of segment C share the view that McDonald’s is expensive, but also think that the food served at McDonald’s is tasty and yummy. Finally, segment B is all praise: members of this market segment believe that McDonald’s food is tasty, yummy and cheap and at least to some extent healthy."
   ]
  },
  {
   "cell_type": "markdown",
   "id": "c75bd24b",
   "metadata": {},
   "source": [
    "### Lets create a biplot. "
   ]
  },
  {
   "cell_type": "code",
   "execution_count": 58,
   "id": "d14b98bc",
   "metadata": {},
   "outputs": [],
   "source": [
    "def biplot(score,coeff,hue,labels=None):\n",
    "    xs = score[:,0]\n",
    "    ys = score[:,1]\n",
    "    n= coeff.shape[0]\n",
    "    scalex = 1.5/(xs.max()-xs.min())\n",
    "    scaley = 1.5/(ys.max()-ys.min())\n",
    "    fig,ax = plt.subplots(figsize=(12,10))\n",
    "    \n",
    "    sns.scatterplot(xs*scalex,ys*scaley,hue=hue)\n",
    "    \n",
    "    #for i ,txt in enumerate(names):\n",
    "        #ax.annotate(txt,(xs[i]*scalex,ys[i]*scaley))\n",
    "        \n",
    "    for i in range(n):\n",
    "        ax.arrow(0,0,coeff[i,0],coeff[i,1],color='r',alpha=0.5)\n",
    "        if labels is None:\n",
    "            ax.text(coeff[i,0]*1.15,coeff[i,1]*1.15,\"Var\"+str(i+1),color='g',ha='center',va='center')\n",
    "        else:\n",
    "            ax.text(coeff[i,0]*1.15,coeff[i,1]*1.15,labels[i],color='g',ha='center',va='center')\n",
    "    ax.set_xlim(-1,1)\n",
    "    ax.set_ylim(-1,1)\n",
    "    ax.set_xlabel(\"PC{}\".format(1))\n",
    "    ax.set_ylabel(\"PC{}\".format(2))\n",
    "    "
   ]
  },
  {
   "cell_type": "code",
   "execution_count": 59,
   "id": "c0f56b46",
   "metadata": {},
   "outputs": [
    {
     "name": "stderr",
     "output_type": "stream",
     "text": [
      "C:\\Users\\91938\\anaconda3\\lib\\site-packages\\seaborn\\_decorators.py:36: FutureWarning: Pass the following variables as keyword args: x, y. From version 0.12, the only valid positional argument will be `data`, and passing other arguments without an explicit keyword will result in an error or misinterpretation.\n",
      "  warnings.warn(\n"
     ]
    },
    {
     "data": {
      "image/png": "[encoded data removed]",
      "text/plain": [
       "<Figure size 864x720 with 1 Axes>"
      ]
     },
     "metadata": {},
     "output_type": "display_data"
    }
   ],
   "source": [
    "biplot(x_pca[:,0:2],np.transpose(pca.components_[0:2,:]),labels=df_criteria.columns,hue=df_criteria['Cluster'])"
   ]
  },
  {
   "cell_type": "markdown",
   "id": "b6e6b8e0",
   "metadata": {},
   "source": [
    "Segments B and D both view McDonald’s as cheap, with members\n",
    "of segment B having some positive beliefs and members of segment A\n",
    "associating McDonald’s primarily with negative attributes. \n",
    "At the other end of the price spectrum, majority of people in segments A and C agree that McDonald’s is not cheap, but disagree\n",
    "on other features with segment A having a negative opinion and segment C having a positive one."
   ]
  },
  {
   "cell_type": "code",
   "execution_count": null,
   "id": "31b21af3",
   "metadata": {},
   "outputs": [],
   "source": []
  },
  {
   "cell_type": "markdown",
   "id": "57dbb68d",
   "metadata": {},
   "source": [
    "## Describing Segments"
   ]
  },
  {
   "cell_type": "code",
   "execution_count": 60,
   "id": "4bdc8401",
   "metadata": {},
   "outputs": [
    {
     "data": {
      "text/html": [
       "<div>\n",
       "<style scoped>\n",
       "    .dataframe tbody tr th:only-of-type {\n",
       "        vertical-align: middle;\n",
       "    }\n",
       "\n",
       "    .dataframe tbody tr th {\n",
       "        vertical-align: top;\n",
       "    }\n",
       "\n",
       "    .dataframe thead th {\n",
       "        text-align: right;\n",
       "    }\n",
       "</style>\n",
       "<table border=\"1\" class=\"dataframe\">\n",
       "  <thead>\n",
       "    <tr style=\"text-align: right;\">\n",
       "      <th></th>\n",
       "      <th>Like</th>\n",
       "      <th>Age</th>\n",
       "      <th>VisitFrequency</th>\n",
       "      <th>Gender</th>\n",
       "      <th>yummy</th>\n",
       "      <th>convenient</th>\n",
       "      <th>spicy</th>\n",
       "      <th>fattening</th>\n",
       "      <th>greasy</th>\n",
       "      <th>fast</th>\n",
       "      <th>cheap</th>\n",
       "      <th>tasty</th>\n",
       "      <th>expensive</th>\n",
       "      <th>healthy</th>\n",
       "      <th>disgusting</th>\n",
       "    </tr>\n",
       "  </thead>\n",
       "  <tbody>\n",
       "    <tr>\n",
       "      <th>0</th>\n",
       "      <td>-3</td>\n",
       "      <td>61</td>\n",
       "      <td>Every three months</td>\n",
       "      <td>Female</td>\n",
       "      <td>0</td>\n",
       "      <td>1</td>\n",
       "      <td>0</td>\n",
       "      <td>1</td>\n",
       "      <td>0</td>\n",
       "      <td>1</td>\n",
       "      <td>1</td>\n",
       "      <td>0</td>\n",
       "      <td>1</td>\n",
       "      <td>0</td>\n",
       "      <td>0</td>\n",
       "    </tr>\n",
       "  </tbody>\n",
       "</table>\n",
       "</div>"
      ],
      "text/plain": [
       "   Like  Age      VisitFrequency  Gender  yummy  convenient  spicy  fattening  \\\n",
       "0    -3   61  Every three months  Female      0           1      0          1   \n",
       "\n",
       "   greasy  fast  cheap  tasty  expensive  healthy  disgusting  \n",
       "0       0     1      1      0          1        0           0  "
      ]
     },
     "execution_count": 60,
     "metadata": {},
     "output_type": "execute_result"
    }
   ],
   "source": [
    "df.head(1)"
   ]
  },
  {
   "cell_type": "code",
   "execution_count": 61,
   "id": "e9416fd7",
   "metadata": {},
   "outputs": [
    {
     "data": {
      "text/html": [
       "<div>\n",
       "<style scoped>\n",
       "    .dataframe tbody tr th:only-of-type {\n",
       "        vertical-align: middle;\n",
       "    }\n",
       "\n",
       "    .dataframe tbody tr th {\n",
       "        vertical-align: top;\n",
       "    }\n",
       "\n",
       "    .dataframe thead th {\n",
       "        text-align: right;\n",
       "    }\n",
       "</style>\n",
       "<table border=\"1\" class=\"dataframe\">\n",
       "  <thead>\n",
       "    <tr style=\"text-align: right;\">\n",
       "      <th></th>\n",
       "      <th>yummy</th>\n",
       "      <th>convenient</th>\n",
       "      <th>spicy</th>\n",
       "      <th>fattening</th>\n",
       "      <th>greasy</th>\n",
       "      <th>fast</th>\n",
       "      <th>cheap</th>\n",
       "      <th>tasty</th>\n",
       "      <th>expensive</th>\n",
       "      <th>healthy</th>\n",
       "      <th>disgusting</th>\n",
       "      <th>Cluster</th>\n",
       "    </tr>\n",
       "  </thead>\n",
       "  <tbody>\n",
       "    <tr>\n",
       "      <th>0</th>\n",
       "      <td>0</td>\n",
       "      <td>1</td>\n",
       "      <td>0</td>\n",
       "      <td>1</td>\n",
       "      <td>0</td>\n",
       "      <td>1</td>\n",
       "      <td>1</td>\n",
       "      <td>0</td>\n",
       "      <td>1</td>\n",
       "      <td>0</td>\n",
       "      <td>0</td>\n",
       "      <td>D</td>\n",
       "    </tr>\n",
       "  </tbody>\n",
       "</table>\n",
       "</div>"
      ],
      "text/plain": [
       "   yummy  convenient  spicy  fattening  greasy  fast  cheap  tasty  expensive  \\\n",
       "0      0           1      0          1       0     1      1      0          1   \n",
       "\n",
       "   healthy  disgusting Cluster  \n",
       "0        0           0       D  "
      ]
     },
     "execution_count": 61,
     "metadata": {},
     "output_type": "execute_result"
    }
   ],
   "source": [
    "df_criteria.head(1)"
   ]
  },
  {
   "cell_type": "markdown",
   "id": "4bb65ae2",
   "metadata": {},
   "source": [
    "#### Lets add the Cluster column to main dataframe for further analysis."
   ]
  },
  {
   "cell_type": "code",
   "execution_count": 127,
   "id": "17f16fee",
   "metadata": {},
   "outputs": [
    {
     "data": {
      "text/html": [
       "<div>\n",
       "<style scoped>\n",
       "    .dataframe tbody tr th:only-of-type {\n",
       "        vertical-align: middle;\n",
       "    }\n",
       "\n",
       "    .dataframe tbody tr th {\n",
       "        vertical-align: top;\n",
       "    }\n",
       "\n",
       "    .dataframe thead th {\n",
       "        text-align: right;\n",
       "    }\n",
       "</style>\n",
       "<table border=\"1\" class=\"dataframe\">\n",
       "  <thead>\n",
       "    <tr style=\"text-align: right;\">\n",
       "      <th></th>\n",
       "      <th>Like</th>\n",
       "      <th>Age</th>\n",
       "      <th>VisitFrequency</th>\n",
       "      <th>Gender</th>\n",
       "      <th>yummy</th>\n",
       "      <th>convenient</th>\n",
       "      <th>spicy</th>\n",
       "      <th>fattening</th>\n",
       "      <th>greasy</th>\n",
       "      <th>fast</th>\n",
       "      <th>cheap</th>\n",
       "      <th>tasty</th>\n",
       "      <th>expensive</th>\n",
       "      <th>healthy</th>\n",
       "      <th>disgusting</th>\n",
       "      <th>Cluster</th>\n",
       "    </tr>\n",
       "  </thead>\n",
       "  <tbody>\n",
       "    <tr>\n",
       "      <th>0</th>\n",
       "      <td>-3</td>\n",
       "      <td>61</td>\n",
       "      <td>Every three months</td>\n",
       "      <td>Female</td>\n",
       "      <td>0</td>\n",
       "      <td>1</td>\n",
       "      <td>0</td>\n",
       "      <td>1</td>\n",
       "      <td>0</td>\n",
       "      <td>1</td>\n",
       "      <td>1</td>\n",
       "      <td>0</td>\n",
       "      <td>1</td>\n",
       "      <td>0</td>\n",
       "      <td>0</td>\n",
       "      <td>D</td>\n",
       "    </tr>\n",
       "  </tbody>\n",
       "</table>\n",
       "</div>"
      ],
      "text/plain": [
       "   Like  Age      VisitFrequency  Gender  yummy  convenient  spicy  fattening  \\\n",
       "0    -3   61  Every three months  Female      0           1      0          1   \n",
       "\n",
       "   greasy  fast  cheap  tasty  expensive  healthy  disgusting Cluster  \n",
       "0       0     1      1      0          1        0           0       D  "
      ]
     },
     "execution_count": 127,
     "metadata": {},
     "output_type": "execute_result"
    }
   ],
   "source": [
    "df['Cluster']=df_criteria['Cluster']\n",
    "df.head(1)"
   ]
  },
  {
   "cell_type": "markdown",
   "id": "ed5a45ca",
   "metadata": {},
   "source": [
    "### Analysis of Ratings in the segments."
   ]
  },
  {
   "cell_type": "code",
   "execution_count": 63,
   "id": "37998f8c",
   "metadata": {},
   "outputs": [
    {
     "data": {
      "text/html": [
       "<div>\n",
       "<style scoped>\n",
       "    .dataframe tbody tr th:only-of-type {\n",
       "        vertical-align: middle;\n",
       "    }\n",
       "\n",
       "    .dataframe tbody tr th {\n",
       "        vertical-align: top;\n",
       "    }\n",
       "\n",
       "    .dataframe thead th {\n",
       "        text-align: right;\n",
       "    }\n",
       "</style>\n",
       "<table border=\"1\" class=\"dataframe\">\n",
       "  <thead>\n",
       "    <tr style=\"text-align: right;\">\n",
       "      <th>Like</th>\n",
       "      <th>-5</th>\n",
       "      <th>-4</th>\n",
       "      <th>-3</th>\n",
       "      <th>-2</th>\n",
       "      <th>-1</th>\n",
       "      <th>0</th>\n",
       "      <th>1</th>\n",
       "      <th>2</th>\n",
       "      <th>3</th>\n",
       "      <th>4</th>\n",
       "      <th>5</th>\n",
       "    </tr>\n",
       "    <tr>\n",
       "      <th>Cluster</th>\n",
       "      <th></th>\n",
       "      <th></th>\n",
       "      <th></th>\n",
       "      <th></th>\n",
       "      <th></th>\n",
       "      <th></th>\n",
       "      <th></th>\n",
       "      <th></th>\n",
       "      <th></th>\n",
       "      <th></th>\n",
       "      <th></th>\n",
       "    </tr>\n",
       "  </thead>\n",
       "  <tbody>\n",
       "    <tr>\n",
       "      <th>A</th>\n",
       "      <td>89</td>\n",
       "      <td>28</td>\n",
       "      <td>30</td>\n",
       "      <td>19</td>\n",
       "      <td>13</td>\n",
       "      <td>39</td>\n",
       "      <td>14</td>\n",
       "      <td>6</td>\n",
       "      <td>9</td>\n",
       "      <td>0</td>\n",
       "      <td>0</td>\n",
       "    </tr>\n",
       "    <tr>\n",
       "      <th>B</th>\n",
       "      <td>3</td>\n",
       "      <td>4</td>\n",
       "      <td>2</td>\n",
       "      <td>6</td>\n",
       "      <td>12</td>\n",
       "      <td>42</td>\n",
       "      <td>65</td>\n",
       "      <td>89</td>\n",
       "      <td>143</td>\n",
       "      <td>111</td>\n",
       "      <td>99</td>\n",
       "    </tr>\n",
       "    <tr>\n",
       "      <th>C</th>\n",
       "      <td>5</td>\n",
       "      <td>3</td>\n",
       "      <td>7</td>\n",
       "      <td>6</td>\n",
       "      <td>6</td>\n",
       "      <td>33</td>\n",
       "      <td>41</td>\n",
       "      <td>59</td>\n",
       "      <td>66</td>\n",
       "      <td>47</td>\n",
       "      <td>44</td>\n",
       "    </tr>\n",
       "    <tr>\n",
       "      <th>D</th>\n",
       "      <td>55</td>\n",
       "      <td>36</td>\n",
       "      <td>34</td>\n",
       "      <td>28</td>\n",
       "      <td>27</td>\n",
       "      <td>55</td>\n",
       "      <td>32</td>\n",
       "      <td>33</td>\n",
       "      <td>11</td>\n",
       "      <td>2</td>\n",
       "      <td>0</td>\n",
       "    </tr>\n",
       "  </tbody>\n",
       "</table>\n",
       "</div>"
      ],
      "text/plain": [
       "Like     -5  -4  -3  -2  -1   0   1   2    3    4   5\n",
       "Cluster                                              \n",
       "A        89  28  30  19  13  39  14   6    9    0   0\n",
       "B         3   4   2   6  12  42  65  89  143  111  99\n",
       "C         5   3   7   6   6  33  41  59   66   47  44\n",
       "D        55  36  34  28  27  55  32  33   11    2   0"
      ]
     },
     "execution_count": 63,
     "metadata": {},
     "output_type": "execute_result"
    }
   ],
   "source": [
    "crosstable=pd.crosstab(df['Like'],df['Cluster'])\n",
    "crosstable.transpose()"
   ]
  },
  {
   "cell_type": "code",
   "execution_count": 64,
   "id": "0701dd51",
   "metadata": {},
   "outputs": [
    {
     "data": {
      "image/png": "[encoded data removed]",
      "text/plain": [
       "<Figure size 576x396 with 1 Axes>"
      ]
     },
     "metadata": {},
     "output_type": "display_data"
    }
   ],
   "source": [
    "barplot = crosstable.plot.bar(rot=0)"
   ]
  },
  {
   "cell_type": "code",
   "execution_count": 65,
   "id": "9ae1cbda",
   "metadata": {},
   "outputs": [],
   "source": [
    "from statsmodels.graphics.mosaicplot import mosaic"
   ]
  },
  {
   "cell_type": "code",
   "execution_count": 72,
   "id": "56e74efd",
   "metadata": {},
   "outputs": [
    {
     "data": {
      "image/png": "[encoded data removed]",
      "text/plain": [
       "<Figure size 720x1080 with 3 Axes>"
      ]
     },
     "metadata": {},
     "output_type": "display_data"
    }
   ],
   "source": [
    "fig, ax1 = plt.subplots(figsize=(10,15))\n",
    "mosaic(df.sort_values(['Like']),['Cluster', 'Like'],gap=.01,ax=ax1,title=\"Segment Number\",statistic=True,labelizer=None)\n",
    "plt.show()"
   ]
  },
  {
   "cell_type": "markdown",
   "id": "52093ec7",
   "metadata": {},
   "source": [
    "Members of segment D rarely express love for McDonald’s, as indicated by\n",
    "the big boxes in the bottom coloured in red. In stark contrast, members of segment B are\n",
    "significantly more likely to love McDonald’s (as indicated by the big red boxes in\n",
    "the top right of the mosaic plot). At the same time, these consumers are less likely\n",
    "to hate McDonald’s (as indicated by the very small blue boxes at the bottom right\n",
    "of the plot). Members of segment A appear to have the strongest negative feelings\n",
    "towards McDonald’s; their likelihood of hating McDonald’s is extremely high (big dark\n",
    "red boxes at the bottom of the first column), and nearly none of the consumers\n",
    "in this segment love McDonald’s (tiny first and second box at the top of column).Majority of Members of the segment B have the strongest positive feelings towards McDonald's."
   ]
  },
  {
   "cell_type": "markdown",
   "id": "911aae2f",
   "metadata": {},
   "source": [
    "### Gender distribution in the segments"
   ]
  },
  {
   "cell_type": "code",
   "execution_count": 99,
   "id": "4b60f21a",
   "metadata": {},
   "outputs": [
    {
     "data": {
      "image/png": "[encoded data removed]",
      "text/plain": [
       "<Figure size 720x576 with 3 Axes>"
      ]
     },
     "metadata": {},
     "output_type": "display_data"
    }
   ],
   "source": [
    "fig, ax1 = plt.subplots(figsize=(10,8))\n",
    "\n",
    "mosaic(df.sort_values(['Cluster']), ['Cluster', 'Gender'],gap=.01,ax=ax1,title=\"Segment Number\",statistic=True)\n",
    "plt.show()"
   ]
  },
  {
   "cell_type": "code",
   "execution_count": 76,
   "id": "ed343d33",
   "metadata": {},
   "outputs": [
    {
     "data": {
      "text/html": [
       "<div>\n",
       "<style scoped>\n",
       "    .dataframe tbody tr th:only-of-type {\n",
       "        vertical-align: middle;\n",
       "    }\n",
       "\n",
       "    .dataframe tbody tr th {\n",
       "        vertical-align: top;\n",
       "    }\n",
       "\n",
       "    .dataframe thead th {\n",
       "        text-align: right;\n",
       "    }\n",
       "</style>\n",
       "<table border=\"1\" class=\"dataframe\">\n",
       "  <thead>\n",
       "    <tr style=\"text-align: right;\">\n",
       "      <th>Cluster</th>\n",
       "      <th>A</th>\n",
       "      <th>B</th>\n",
       "      <th>C</th>\n",
       "      <th>D</th>\n",
       "    </tr>\n",
       "    <tr>\n",
       "      <th>Gender</th>\n",
       "      <th></th>\n",
       "      <th></th>\n",
       "      <th></th>\n",
       "      <th></th>\n",
       "    </tr>\n",
       "  </thead>\n",
       "  <tbody>\n",
       "    <tr>\n",
       "      <th>Female</th>\n",
       "      <td>106</td>\n",
       "      <td>347</td>\n",
       "      <td>151</td>\n",
       "      <td>184</td>\n",
       "    </tr>\n",
       "    <tr>\n",
       "      <th>Male</th>\n",
       "      <td>141</td>\n",
       "      <td>229</td>\n",
       "      <td>166</td>\n",
       "      <td>129</td>\n",
       "    </tr>\n",
       "  </tbody>\n",
       "</table>\n",
       "</div>"
      ],
      "text/plain": [
       "Cluster    A    B    C    D\n",
       "Gender                     \n",
       "Female   106  347  151  184\n",
       "Male     141  229  166  129"
      ]
     },
     "execution_count": 76,
     "metadata": {},
     "output_type": "execute_result"
    }
   ],
   "source": [
    "crosstable=pd.crosstab(df['Cluster'],df['Gender'])\n",
    "crosstable.transpose()"
   ]
  },
  {
   "cell_type": "code",
   "execution_count": 77,
   "id": "13e6eb37",
   "metadata": {},
   "outputs": [
    {
     "data": {
      "image/png": "[encoded data removed]",
      "text/plain": [
       "<Figure size 576x396 with 1 Axes>"
      ]
     },
     "metadata": {},
     "output_type": "display_data"
    }
   ],
   "source": [
    "barplot = crosstable.plot.bar(rot=0)"
   ]
  },
  {
   "cell_type": "markdown",
   "id": "cbdba6da",
   "metadata": {},
   "source": [
    "### Analysis of the mosiac and bar plot shows that:\n",
    "Segment C and segment D have a similar gender\n",
    "distribution as the overall sample. Segment A contains significantly more men. Members of segment B are\n",
    "significantly less likely to be men."
   ]
  },
  {
   "cell_type": "raw",
   "id": "aa1bce31",
   "metadata": {},
   "source": []
  },
  {
   "cell_type": "markdown",
   "id": "bd231de9",
   "metadata": {},
   "source": [
    "### Age distribution in the segments"
   ]
  },
  {
   "cell_type": "code",
   "execution_count": 78,
   "id": "b0c194c7",
   "metadata": {},
   "outputs": [
    {
     "data": {
      "text/plain": [
       "<AxesSubplot:xlabel='Cluster', ylabel='Age'>"
      ]
     },
     "execution_count": 78,
     "metadata": {},
     "output_type": "execute_result"
    },
    {
     "data": {
      "image/png": "[encoded data removed]",
      "text/plain": [
       "<Figure size 576x396 with 1 Axes>"
      ]
     },
     "metadata": {},
     "output_type": "display_data"
    }
   ],
   "source": [
    "sns.boxplot(x=\"Cluster\", y=\"Age\", data=df.sort_values('Cluster'),palette='rainbow')"
   ]
  },
  {
   "cell_type": "markdown",
   "id": "3688f21d",
   "metadata": {},
   "source": [
    "We see immediately that there is a significant differences in average age across segments. A more detailed inspection reveals that members of segment C consumers who think McDonald’s is yummy and tasty, but expensive\n",
    "are younger than the members of all other segments.And also segment B which finds McDonals's cheap and tasty also younger."
   ]
  },
  {
   "cell_type": "raw",
   "id": "17385608",
   "metadata": {},
   "source": []
  },
  {
   "cell_type": "markdown",
   "id": "a155202f",
   "metadata": {},
   "source": [
    "## Selecting segments"
   ]
  },
  {
   "cell_type": "code",
   "execution_count": 129,
   "id": "a1d9a3cf",
   "metadata": {},
   "outputs": [
    {
     "data": {
      "text/plain": [
       "array(['Every three months', 'Once a week', 'Once a month', 'Once a year',\n",
       "       'More than once a week', 'Never'], dtype=object)"
      ]
     },
     "execution_count": 129,
     "metadata": {},
     "output_type": "execute_result"
    }
   ],
   "source": [
    "df['VisitFrequency'].unique()"
   ]
  },
  {
   "cell_type": "code",
   "execution_count": 130,
   "id": "544512d8",
   "metadata": {},
   "outputs": [],
   "source": [
    "def encoder(string):\n",
    "    if(string=='Never'):\n",
    "        return 0\n",
    "    elif(string=='Once a year'):\n",
    "        return 1\n",
    "    elif(string=='Every three months'):\n",
    "        return 2\n",
    "    elif(string=='Once a month'):\n",
    "        return 3\n",
    "    elif(string=='Once a week'):\n",
    "        return 4\n",
    "    elif(string=='More than once a week'):\n",
    "        return 5\n",
    "    else:\n",
    "        return 'Something missed'\n",
    "    "
   ]
  },
  {
   "cell_type": "code",
   "execution_count": 131,
   "id": "e4cf5ebe",
   "metadata": {},
   "outputs": [],
   "source": [
    "df['VisitFrequency']=df['VisitFrequency'].apply(lambda x:encoder(x))"
   ]
  },
  {
   "cell_type": "code",
   "execution_count": 132,
   "id": "255a7bf8",
   "metadata": {},
   "outputs": [
    {
     "data": {
      "text/plain": [
       "array([2, 4, 3, 1, 5, 0], dtype=int64)"
      ]
     },
     "execution_count": 132,
     "metadata": {},
     "output_type": "execute_result"
    }
   ],
   "source": [
    "df['VisitFrequency'].unique()"
   ]
  },
  {
   "cell_type": "raw",
   "id": "da666ee2",
   "metadata": {},
   "source": []
  },
  {
   "cell_type": "code",
   "execution_count": 133,
   "id": "fa4340ac",
   "metadata": {},
   "outputs": [],
   "source": [
    "df_visit=pd.DataFrame(df.groupby('Cluster')['VisitFrequency'].mean())"
   ]
  },
  {
   "cell_type": "code",
   "execution_count": 134,
   "id": "c55f6ee8",
   "metadata": {},
   "outputs": [],
   "source": [
    "df_Like=pd.DataFrame(df.groupby('Cluster')['Like'].mean())"
   ]
  },
  {
   "cell_type": "code",
   "execution_count": 135,
   "id": "22fcf635",
   "metadata": {},
   "outputs": [
    {
     "data": {
      "text/html": [
       "<div>\n",
       "<style scoped>\n",
       "    .dataframe tbody tr th:only-of-type {\n",
       "        vertical-align: middle;\n",
       "    }\n",
       "\n",
       "    .dataframe tbody tr th {\n",
       "        vertical-align: top;\n",
       "    }\n",
       "\n",
       "    .dataframe thead th {\n",
       "        text-align: right;\n",
       "    }\n",
       "</style>\n",
       "<table border=\"1\" class=\"dataframe\">\n",
       "  <thead>\n",
       "    <tr style=\"text-align: right;\">\n",
       "      <th></th>\n",
       "      <th>VisitFrequency</th>\n",
       "    </tr>\n",
       "    <tr>\n",
       "      <th>Cluster</th>\n",
       "      <th></th>\n",
       "    </tr>\n",
       "  </thead>\n",
       "  <tbody>\n",
       "    <tr>\n",
       "      <th>A</th>\n",
       "      <td>1.425101</td>\n",
       "    </tr>\n",
       "    <tr>\n",
       "      <th>B</th>\n",
       "      <td>2.951389</td>\n",
       "    </tr>\n",
       "    <tr>\n",
       "      <th>C</th>\n",
       "      <td>2.864353</td>\n",
       "    </tr>\n",
       "    <tr>\n",
       "      <th>D</th>\n",
       "      <td>1.607029</td>\n",
       "    </tr>\n",
       "  </tbody>\n",
       "</table>\n",
       "</div>"
      ],
      "text/plain": [
       "         VisitFrequency\n",
       "Cluster                \n",
       "A              1.425101\n",
       "B              2.951389\n",
       "C              2.864353\n",
       "D              1.607029"
      ]
     },
     "execution_count": 135,
     "metadata": {},
     "output_type": "execute_result"
    }
   ],
   "source": [
    "df_visit"
   ]
  },
  {
   "cell_type": "code",
   "execution_count": 137,
   "id": "789a781e",
   "metadata": {},
   "outputs": [
    {
     "data": {
      "text/plain": [
       "[<matplotlib.lines.Line2D at 0x2a2ebd49c40>]"
      ]
     },
     "execution_count": 137,
     "metadata": {},
     "output_type": "execute_result"
    },
    {
     "data": {
      "image/png": "[encoded data removed]",
      "text/plain": [
       "<Figure size 576x396 with 1 Axes>"
      ]
     },
     "metadata": {},
     "output_type": "display_data"
    }
   ],
   "source": [
    "plt.plot(df_visit)"
   ]
  },
  {
   "cell_type": "code",
   "execution_count": 138,
   "id": "7637c3d7",
   "metadata": {},
   "outputs": [
    {
     "data": {
      "text/html": [
       "<div>\n",
       "<style scoped>\n",
       "    .dataframe tbody tr th:only-of-type {\n",
       "        vertical-align: middle;\n",
       "    }\n",
       "\n",
       "    .dataframe tbody tr th {\n",
       "        vertical-align: top;\n",
       "    }\n",
       "\n",
       "    .dataframe thead th {\n",
       "        text-align: right;\n",
       "    }\n",
       "</style>\n",
       "<table border=\"1\" class=\"dataframe\">\n",
       "  <thead>\n",
       "    <tr style=\"text-align: right;\">\n",
       "      <th></th>\n",
       "      <th>Like</th>\n",
       "    </tr>\n",
       "    <tr>\n",
       "      <th>Cluster</th>\n",
       "      <th></th>\n",
       "    </tr>\n",
       "  </thead>\n",
       "  <tbody>\n",
       "    <tr>\n",
       "      <th>A</th>\n",
       "      <td>-2.611336</td>\n",
       "    </tr>\n",
       "    <tr>\n",
       "      <th>B</th>\n",
       "      <td>2.690972</td>\n",
       "    </tr>\n",
       "    <tr>\n",
       "      <th>C</th>\n",
       "      <td>2.173502</td>\n",
       "    </tr>\n",
       "    <tr>\n",
       "      <th>D</th>\n",
       "      <td>-1.485623</td>\n",
       "    </tr>\n",
       "  </tbody>\n",
       "</table>\n",
       "</div>"
      ],
      "text/plain": [
       "             Like\n",
       "Cluster          \n",
       "A       -2.611336\n",
       "B        2.690972\n",
       "C        2.173502\n",
       "D       -1.485623"
      ]
     },
     "execution_count": 138,
     "metadata": {},
     "output_type": "execute_result"
    }
   ],
   "source": [
    "df_Like"
   ]
  },
  {
   "cell_type": "code",
   "execution_count": null,
   "id": "1ecb6e0c",
   "metadata": {},
   "outputs": [],
   "source": []
  },
  {
   "cell_type": "code",
   "execution_count": 142,
   "id": "0ead1f0a",
   "metadata": {},
   "outputs": [
    {
     "data": {
      "image/png": "[encoded data removed]",
      "text/plain": [
       "<Figure size 576x396 with 1 Axes>"
      ]
     },
     "metadata": {},
     "output_type": "display_data"
    }
   ],
   "source": [
    "plt.title('Segment Evaluation')\n",
    "sns.scatterplot(y=df_Like['Like'],x=df_visit['VisitFrequency'],hue=df_Like.index)\n",
    "plt.show()"
   ]
  },
  {
   "cell_type": "markdown",
   "id": "d1a19f19",
   "metadata": {},
   "source": [
    "Market segments B and C are located in the attractive quadrant of the segment evaluation\n",
    "plot. Members of these two segments like McDonald’s and visit it frequently. These\n",
    "segments need to be retained, and their needs must be satisfied in the future. Market\n",
    "segment A is located in the least attractive position. Members of this segment\n",
    "hate McDonald’s, and rarely eat there, making them unattractive as a potential\n",
    "market segment. Market segment D does not currently perceive McDonald’s in a\n",
    "positive way, and feels that it is expensive. But in terms of loving McDonald’s\n",
    "and visitation frequency, members of market segment D present as a viable target\n",
    "segment. Marketing action could attempt to address the negative perceptions of this\n",
    "segment, and re-inforce positive perceptions. As a result, McDonald’s may be able\n",
    "to broaden its customer base"
   ]
  },
  {
   "cell_type": "markdown",
   "id": "faa68364",
   "metadata": {},
   "source": [
    "### Customizing the marketing mix."
   ]
  },
  {
   "cell_type": "markdown",
   "id": "9a449a45",
   "metadata": {},
   "source": [
    "The marketing mix is designed based on the characteristic of the seleted market segment. If, for example, McDonald’s managers\n",
    "decide to focus on segment C (young customers who like McDonald’s, think the food is yummy and tasty, but perceive it as pretty expensive), they could choose to offer a Budget line to cater specifically to the price expectations of this\n",
    "segment (4Ps: Price). The aim is that Members of segment C become loyal customers who, as they start earning more\n",
    "money, will not care about the price any more.Communication channels which are heavily used by members of this segment like social media(instagram,tik-tok), can be used to communicate the availability of the new budget products (4Ps: Promotion)."
   ]
  },
  {
   "cell_type": "code",
   "execution_count": null,
   "id": "74e26c9e",
   "metadata": {},
   "outputs": [],
   "source": []
  }
 ],
 "metadata": {
  "kernelspec": {
   "display_name": "Python 3 (ipykernel)",
   "language": "python",
   "name": "python3"
  },
  "language_info": {
   "codemirror_mode": {
    "name": "ipython",
    "version": 3
   },
   "file_extension": ".py",
   "mimetype": "text/x-python",
   "name": "python",
   "nbconvert_exporter": "python",
   "pygments_lexer": "ipython3",
   "version": "3.9.7"
  }
 },
 "nbformat": 4,
 "nbformat_minor": 5
}
